{
 "cells": [
  {
   "cell_type": "code",
   "execution_count": 1,
   "id": "initial_id",
   "metadata": {
    "collapsed": true,
    "ExecuteTime": {
     "end_time": "2023-10-04T17:47:40.145927700Z",
     "start_time": "2023-10-04T17:47:39.510193800Z"
    }
   },
   "outputs": [],
   "source": [
    "import numpy as np\n",
    "import pandas as pd\n",
    "import matplotlib.pyplot as plt\n",
    "import sys\n",
    "import random\n",
    "import seaborn as sns\n",
    "import math\n",
    "from sklearn.impute import KNNImputer\n",
    "import sklearn as sk\n",
    "from sklearn.tree import DecisionTreeClassifier\n",
    "from sklearn.model_selection import train_test_split \n",
    "from sklearn import metrics\n",
    "from sklearn import tree\n",
    "from sklearn.model_selection import cross_validate\n",
    "from sklearn.neighbors import KNeighborsClassifier\n",
    "from sklearn.model_selection import cross_val_score\n",
    "from sklearn.ensemble import RandomForestClassifier\n",
    "from lightgbm import LGBMClassifier\n",
    "from xgboost import XGBClassifier\n",
    "from sklearn import svm\n",
    "from sklearn.svm import SVC\n",
    "from sklearn.neural_network import MLPClassifier\n",
    "from sklearn.utils import shuffle\n",
    "from sklearn.model_selection import StratifiedKFold\n",
    "from sklearn.naive_bayes import GaussianNB,MultinomialNB\n",
    "from sklearn.neighbors import KNeighborsClassifier\n",
    "from sklearn.ensemble import AdaBoostClassifier, RandomForestClassifier\n",
    "from sklearn.discriminant_analysis import QuadraticDiscriminantAnalysis\n",
    "from sklearn.metrics import roc_auc_score\n",
    "\n",
    "import optuna"
   ]
  },
  {
   "cell_type": "code",
   "execution_count": 2,
   "outputs": [
    {
     "name": "stdout",
     "output_type": "stream",
     "text": [
      "<class 'pandas.core.frame.DataFrame'>\n",
      "RangeIndex: 169605 entries, 0 to 169604\n",
      "Data columns (total 23 columns):\n",
      " #   Column             Non-Null Count   Dtype  \n",
      "---  ------             --------------   -----  \n",
      " 0   id                 169605 non-null  int64  \n",
      " 1   loc                169605 non-null  float64\n",
      " 2   v(g)               169605 non-null  float64\n",
      " 3   ev(g)              169605 non-null  float64\n",
      " 4   iv(g)              169605 non-null  float64\n",
      " 5   n                  169605 non-null  float64\n",
      " 6   v                  169605 non-null  float64\n",
      " 7   l                  169605 non-null  float64\n",
      " 8   d                  169605 non-null  float64\n",
      " 9   i                  169605 non-null  float64\n",
      " 10  e                  169605 non-null  float64\n",
      " 11  b                  169605 non-null  float64\n",
      " 12  t                  169605 non-null  float64\n",
      " 13  lOCode             169605 non-null  int64  \n",
      " 14  lOComment          169605 non-null  int64  \n",
      " 15  lOBlank            169605 non-null  int64  \n",
      " 16  locCodeAndComment  169605 non-null  int64  \n",
      " 17  uniq_Op            169605 non-null  float64\n",
      " 18  uniq_Opnd          169605 non-null  float64\n",
      " 19  total_Op           169605 non-null  float64\n",
      " 20  total_Opnd         169605 non-null  float64\n",
      " 21  branchCount        169605 non-null  float64\n",
      " 22  defects            101763 non-null  object \n",
      "dtypes: float64(17), int64(5), object(1)\n",
      "memory usage: 29.8+ MB\n"
     ]
    },
    {
     "name": "stderr",
     "output_type": "stream",
     "text": [
      "C:\\Users\\Fabrizio Ortega\\.conda\\envs\\condaenv\\Lib\\site-packages\\sklearn\\cluster\\_kmeans.py:870: FutureWarning: The default value of `n_init` will change from 10 to 'auto' in 1.4. Set the value of `n_init` explicitly to suppress the warning\n",
      "  warnings.warn(\n"
     ]
    }
   ],
   "source": [
    "%run clustering.ipynb"
   ],
   "metadata": {
    "collapsed": false,
    "ExecuteTime": {
     "end_time": "2023-10-04T17:47:44.190953Z",
     "start_time": "2023-10-04T17:47:40.147928600Z"
    }
   },
   "id": "8cb0fbe61d2d0506"
  },
  {
   "cell_type": "code",
   "execution_count": 3,
   "outputs": [],
   "source": [
    "df_x = df[~df.defects.isna()].drop(columns='defects')\n",
    "df_y = df[~df.defects.isna()].defects\n",
    "\n",
    "\n",
    "x_train,x_test,y_train,y_test = train_test_split(df_x,df_y,test_size=0.2,random_state=1,stratify=df_y,shuffle=True)\n",
    "\n",
    "rskf = StratifiedKFold(n_splits = 5, random_state = 1, shuffle = True)\n",
    "cv = rskf.split(x_train, y_train)"
   ],
   "metadata": {
    "collapsed": false,
    "ExecuteTime": {
     "end_time": "2023-10-04T17:47:44.304987300Z",
     "start_time": "2023-10-04T17:47:44.191152500Z"
    }
   },
   "id": "30f0b7821f93bbc2"
  },
  {
   "cell_type": "code",
   "execution_count": 4,
   "outputs": [
    {
     "data": {
      "text/plain": "{'fit_time': array([2.50085688, 2.50998449, 2.51510596, 2.48455501, 2.49466372]),\n 'score_time': array([0.01951957, 0.02015924, 0.02054071, 0.02054524, 0.01801348]),\n 'test_score': array([0.79010052, 0.79344402, 0.79020946, 0.79409395, 0.78826735])}"
     },
     "execution_count": 4,
     "metadata": {},
     "output_type": "execute_result"
    }
   ],
   "source": [
    "params = {'eta': 0.29795183295459826, 'n_estimators': 103, 'max_depth': 2, 'reg_lambda': 2.443650137484187, 'subsample': 0.7755241881125791, 'min_child_weight': 6, 'colsample_bytree': 0.790349885530548, 'random_state': 1}\n",
    "model = XGBClassifier(**params)\n",
    "cross_validate(model,x_train,y_train,cv=rskf.split(x_train, y_train),scoring='roc_auc',n_jobs=-1)"
   ],
   "metadata": {
    "collapsed": false,
    "ExecuteTime": {
     "end_time": "2023-10-04T17:25:42.155405500Z",
     "start_time": "2023-10-04T17:25:37.935753300Z"
    }
   },
   "id": "c46f450f1f222c86"
  },
  {
   "cell_type": "code",
   "execution_count": 4,
   "outputs": [],
   "source": [
    "def objective(trial):\n",
    "    # model = LGBMClassifier(\n",
    "    #     n_estimators = trial.suggest_int('n_estimators', 32, 256),\n",
    "    #     learning_rate = trial.suggest_float('learning_rate', 0.001, 0.5),\n",
    "    #     max_depth = trial.suggest_int('max_depth', 1, 10),\n",
    "    #     num_leaves = trial.suggest_int('num_leaves', 2, 1024),\n",
    "    #     reg_lambda  = trial.suggest_float('reg_lambda', 0.001, 10),\n",
    "    #     reg_alpha = trial.suggest_float('reg_alpha', 0, 10),\n",
    "    #     subsample = trial.suggest_float('subsample', 0.001, 1),\n",
    "    #     colsample_bytree = trial.suggest_float('colsample_bytree', 0.5, 1),\n",
    "    #     min_child_samples = trial.suggest_int('min_child_samples', 2, 1024),\n",
    "    #     min_child_weight = trial.suggest_int('min_child_weight', 1, 10),\n",
    "    #     objective = trial.suggest_categorical('objective', ['multiclass']),\n",
    "    #     metric = trial.suggest_categorical('metric', ['multi_logloss']),\n",
    "    #     boosting_type = trial.suggest_categorical('boosting_type', ['gbdt']),\n",
    "    #     random_state = trial.suggest_categorical('random_state', [1])\n",
    "    # )\n",
    "    \n",
    "    # model = CatBoostClassifier(\n",
    "    #     iterations = trial.suggest_int('iterations', 32, 128),\n",
    "    #     learning_rate = trial.suggest_float('learning_rate', 0.001, 0.3),\n",
    "    #     depth = trial.suggest_int('depth', 1, 10),\n",
    "    #     l2_leaf_reg = trial.suggest_float('l2_leaf_reg', 0.01, 10),\n",
    "    #     grow_policy = trial.suggest_categorical('grow_policy', ['Depthwise']),\n",
    "    #     bootstrap_type = trial.suggest_categorical('bootstrap_type', ['Bayesian']),\n",
    "    #     od_type = trial.suggest_categorical('od_type', ['Iter']),\n",
    "    #     eval_metric = trial.suggest_categorical('eval_metric', ['TotalF1']),\n",
    "    #     loss_function = trial.suggest_categorical('loss_function', ['MultiClass']),\n",
    "    #     random_state = trial.suggest_categorical('random_state', [1]),\n",
    "    #     verbose = trial.suggest_categorical('verbose', [0]) \n",
    "    # )\n",
    "    \n",
    "    # model = XGBClassifier(\n",
    "    #     eta = trial.suggest_float('eta', 0.001, 0.3),\n",
    "    #     n_estimators = trial.suggest_int('n_estimators', 32,128),\n",
    "    #     max_depth = trial.suggest_int('max_depth', 1, 10),\n",
    "    #     reg_lambda = trial.suggest_float('reg_lambda', 0.01, 10),\n",
    "    #     subsample = trial.suggest_float('subsample', 0.01, 1),\n",
    "    #     min_child_weight = trial.suggest_int('min_child_weight', 1, 10),\n",
    "    #     colsample_bytree = trial.suggest_float('colsample_bytree', 0.01, 1),\n",
    "    #     random_state = trial.suggest_categorical('random_state', [1])\n",
    "    # )\n",
    "    \n",
    "    model =  MLPClassifier(\n",
    "        hidden_layer_sizes = trial.suggest_categorical('hidden_layer_sizes',[[10,],[16,16],[16,32,64,16]]),\n",
    "        alpha = trial.suggest_float('alpha', 1e-5, 10),\n",
    "        batch_size = trial.suggest_int('batch_size',10,1000),\n",
    "        learning_rate_init = trial.suggest_float('learning_rate_init', 1e-5, 1e-2),\n",
    "        random_state = trial.suggest_categorical('random_state', [1]),\n",
    "        beta_1 = trial.suggest_float('beta_1', 0.1, 0.95),\n",
    "        beta_2 = trial.suggest_float('beta_2', 0.1, 0.95),\n",
    "        epsilon = trial.suggest_float('epsilon', 1e-8, 1e-3),\n",
    "    )\n",
    "    \n",
    "    scores = cross_validate(model,x_train,y_train,cv=rskf.split(x_train, y_train),scoring='roc_auc')\n",
    "    return min(scores['test_score'])\n",
    "\n",
    "\n"
   ],
   "metadata": {
    "collapsed": false,
    "ExecuteTime": {
     "end_time": "2023-10-04T17:32:00.902491Z",
     "start_time": "2023-10-04T17:32:00.896124800Z"
    }
   },
   "id": "135ad0a56d722c58"
  },
  {
   "cell_type": "code",
   "execution_count": null,
   "outputs": [
    {
     "name": "stderr",
     "output_type": "stream",
     "text": [
      "[I 2023-10-04 12:32:01,545] A new study created in memory with name: no-name-3117161e-8947-4f37-809f-d0b2e2abab30\n",
      "C:\\Users\\Fabrizio Ortega\\.conda\\envs\\condaenv\\Lib\\site-packages\\optuna\\distributions.py:524: UserWarning: Choices for a categorical distribution should be a tuple of None, bool, int, float and str for persistent storage but contains [10] which is of type list.\n",
      "  warnings.warn(message)\n",
      "C:\\Users\\Fabrizio Ortega\\.conda\\envs\\condaenv\\Lib\\site-packages\\optuna\\distributions.py:524: UserWarning: Choices for a categorical distribution should be a tuple of None, bool, int, float and str for persistent storage but contains [10] which is of type list.\n",
      "  warnings.warn(message)\n",
      "C:\\Users\\Fabrizio Ortega\\.conda\\envs\\condaenv\\Lib\\site-packages\\optuna\\distributions.py:524: UserWarning: Choices for a categorical distribution should be a tuple of None, bool, int, float and str for persistent storage but contains [16, 16] which is of type list.\n",
      "  warnings.warn(message)\n",
      "C:\\Users\\Fabrizio Ortega\\.conda\\envs\\condaenv\\Lib\\site-packages\\optuna\\distributions.py:524: UserWarning: Choices for a categorical distribution should be a tuple of None, bool, int, float and str for persistent storage but contains [16, 32, 64, 16] which is of type list.\n",
      "  warnings.warn(message)\n",
      "C:\\Users\\Fabrizio Ortega\\.conda\\envs\\condaenv\\Lib\\site-packages\\optuna\\distributions.py:524: UserWarning: Choices for a categorical distribution should be a tuple of None, bool, int, float and str for persistent storage but contains [16, 16] which is of type list.\n",
      "  warnings.warn(message)\n",
      "C:\\Users\\Fabrizio Ortega\\.conda\\envs\\condaenv\\Lib\\site-packages\\optuna\\distributions.py:524: UserWarning: Choices for a categorical distribution should be a tuple of None, bool, int, float and str for persistent storage but contains [16, 32, 64, 16] which is of type list.\n",
      "  warnings.warn(message)\n",
      "C:\\Users\\Fabrizio Ortega\\.conda\\envs\\condaenv\\Lib\\site-packages\\optuna\\distributions.py:524: UserWarning: Choices for a categorical distribution should be a tuple of None, bool, int, float and str for persistent storage but contains [16, 32, 64, 16] which is of type list.\n",
      "  warnings.warn(message)\n",
      "C:\\Users\\Fabrizio Ortega\\.conda\\envs\\condaenv\\Lib\\site-packages\\optuna\\distributions.py:524: UserWarning: Choices for a categorical distribution should be a tuple of None, bool, int, float and str for persistent storage but contains [10] which is of type list.\n",
      "  warnings.warn(message)\n",
      "C:\\Users\\Fabrizio Ortega\\.conda\\envs\\condaenv\\Lib\\site-packages\\optuna\\distributions.py:524: UserWarning: Choices for a categorical distribution should be a tuple of None, bool, int, float and str for persistent storage but contains [16, 16] which is of type list.\n",
      "  warnings.warn(message)\n",
      "C:\\Users\\Fabrizio Ortega\\.conda\\envs\\condaenv\\Lib\\site-packages\\optuna\\distributions.py:524: UserWarning: Choices for a categorical distribution should be a tuple of None, bool, int, float and str for persistent storage but contains [16, 32, 64, 16] which is of type list.\n",
      "  warnings.warn(message)\n",
      "C:\\Users\\Fabrizio Ortega\\.conda\\envs\\condaenv\\Lib\\site-packages\\optuna\\distributions.py:524: UserWarning: Choices for a categorical distribution should be a tuple of None, bool, int, float and str for persistent storage but contains [10] which is of type list.\n",
      "  warnings.warn(message)\n",
      "C:\\Users\\Fabrizio Ortega\\.conda\\envs\\condaenv\\Lib\\site-packages\\optuna\\distributions.py:524: UserWarning: Choices for a categorical distribution should be a tuple of None, bool, int, float and str for persistent storage but contains [16, 16] which is of type list.\n",
      "  warnings.warn(message)\n",
      "C:\\Users\\Fabrizio Ortega\\.conda\\envs\\condaenv\\Lib\\site-packages\\optuna\\distributions.py:524: UserWarning: Choices for a categorical distribution should be a tuple of None, bool, int, float and str for persistent storage but contains [16, 32, 64, 16] which is of type list.\n",
      "  warnings.warn(message)\n",
      "C:\\Users\\Fabrizio Ortega\\.conda\\envs\\condaenv\\Lib\\site-packages\\optuna\\distributions.py:524: UserWarning: Choices for a categorical distribution should be a tuple of None, bool, int, float and str for persistent storage but contains [10] which is of type list.\n",
      "  warnings.warn(message)\n",
      "C:\\Users\\Fabrizio Ortega\\.conda\\envs\\condaenv\\Lib\\site-packages\\optuna\\distributions.py:524: UserWarning: Choices for a categorical distribution should be a tuple of None, bool, int, float and str for persistent storage but contains [16, 16] which is of type list.\n",
      "  warnings.warn(message)\n",
      "C:\\Users\\Fabrizio Ortega\\.conda\\envs\\condaenv\\Lib\\site-packages\\optuna\\distributions.py:524: UserWarning: Choices for a categorical distribution should be a tuple of None, bool, int, float and str for persistent storage but contains [16, 32, 64, 16] which is of type list.\n",
      "  warnings.warn(message)\n",
      "C:\\Users\\Fabrizio Ortega\\.conda\\envs\\condaenv\\Lib\\site-packages\\optuna\\distributions.py:524: UserWarning: Choices for a categorical distribution should be a tuple of None, bool, int, float and str for persistent storage but contains [10] which is of type list.\n",
      "  warnings.warn(message)\n",
      "C:\\Users\\Fabrizio Ortega\\.conda\\envs\\condaenv\\Lib\\site-packages\\optuna\\distributions.py:524: UserWarning: Choices for a categorical distribution should be a tuple of None, bool, int, float and str for persistent storage but contains [16, 16] which is of type list.\n",
      "  warnings.warn(message)\n",
      "C:\\Users\\Fabrizio Ortega\\.conda\\envs\\condaenv\\Lib\\site-packages\\optuna\\distributions.py:524: UserWarning: Choices for a categorical distribution should be a tuple of None, bool, int, float and str for persistent storage but contains [16, 32, 64, 16] which is of type list.\n",
      "  warnings.warn(message)\n",
      "C:\\Users\\Fabrizio Ortega\\.conda\\envs\\condaenv\\Lib\\site-packages\\optuna\\distributions.py:524: UserWarning: Choices for a categorical distribution should be a tuple of None, bool, int, float and str for persistent storage but contains [10] which is of type list.\n",
      "  warnings.warn(message)\n",
      "C:\\Users\\Fabrizio Ortega\\.conda\\envs\\condaenv\\Lib\\site-packages\\optuna\\distributions.py:524: UserWarning: Choices for a categorical distribution should be a tuple of None, bool, int, float and str for persistent storage but contains [16, 16] which is of type list.\n",
      "  warnings.warn(message)\n",
      "C:\\Users\\Fabrizio Ortega\\.conda\\envs\\condaenv\\Lib\\site-packages\\optuna\\distributions.py:524: UserWarning: Choices for a categorical distribution should be a tuple of None, bool, int, float and str for persistent storage but contains [16, 32, 64, 16] which is of type list.\n",
      "  warnings.warn(message)\n",
      "C:\\Users\\Fabrizio Ortega\\.conda\\envs\\condaenv\\Lib\\site-packages\\optuna\\distributions.py:524: UserWarning: Choices for a categorical distribution should be a tuple of None, bool, int, float and str for persistent storage but contains [10] which is of type list.\n",
      "  warnings.warn(message)\n",
      "C:\\Users\\Fabrizio Ortega\\.conda\\envs\\condaenv\\Lib\\site-packages\\optuna\\distributions.py:524: UserWarning: Choices for a categorical distribution should be a tuple of None, bool, int, float and str for persistent storage but contains [16, 16] which is of type list.\n",
      "  warnings.warn(message)\n",
      "C:\\Users\\Fabrizio Ortega\\.conda\\envs\\condaenv\\Lib\\site-packages\\optuna\\distributions.py:524: UserWarning: Choices for a categorical distribution should be a tuple of None, bool, int, float and str for persistent storage but contains [16, 32, 64, 16] which is of type list.\n",
      "  warnings.warn(message)\n",
      "C:\\Users\\Fabrizio Ortega\\.conda\\envs\\condaenv\\Lib\\site-packages\\optuna\\distributions.py:524: UserWarning: Choices for a categorical distribution should be a tuple of None, bool, int, float and str for persistent storage but contains [10] which is of type list.\n",
      "  warnings.warn(message)\n",
      "C:\\Users\\Fabrizio Ortega\\.conda\\envs\\condaenv\\Lib\\site-packages\\optuna\\distributions.py:524: UserWarning: Choices for a categorical distribution should be a tuple of None, bool, int, float and str for persistent storage but contains [16, 16] which is of type list.\n",
      "  warnings.warn(message)\n",
      "C:\\Users\\Fabrizio Ortega\\.conda\\envs\\condaenv\\Lib\\site-packages\\optuna\\distributions.py:524: UserWarning: Choices for a categorical distribution should be a tuple of None, bool, int, float and str for persistent storage but contains [16, 32, 64, 16] which is of type list.\n",
      "  warnings.warn(message)\n",
      "C:\\Users\\Fabrizio Ortega\\.conda\\envs\\condaenv\\Lib\\site-packages\\optuna\\distributions.py:524: UserWarning: Choices for a categorical distribution should be a tuple of None, bool, int, float and str for persistent storage but contains [10] which is of type list.\n",
      "  warnings.warn(message)\n",
      "C:\\Users\\Fabrizio Ortega\\.conda\\envs\\condaenv\\Lib\\site-packages\\optuna\\distributions.py:524: UserWarning: Choices for a categorical distribution should be a tuple of None, bool, int, float and str for persistent storage but contains [16, 16] which is of type list.\n",
      "  warnings.warn(message)\n",
      "C:\\Users\\Fabrizio Ortega\\.conda\\envs\\condaenv\\Lib\\site-packages\\optuna\\distributions.py:524: UserWarning: Choices for a categorical distribution should be a tuple of None, bool, int, float and str for persistent storage but contains [16, 32, 64, 16] which is of type list.\n",
      "  warnings.warn(message)\n",
      "C:\\Users\\Fabrizio Ortega\\.conda\\envs\\condaenv\\Lib\\site-packages\\optuna\\distributions.py:524: UserWarning: Choices for a categorical distribution should be a tuple of None, bool, int, float and str for persistent storage but contains [10] which is of type list.\n",
      "  warnings.warn(message)\n",
      "C:\\Users\\Fabrizio Ortega\\.conda\\envs\\condaenv\\Lib\\site-packages\\optuna\\distributions.py:524: UserWarning: Choices for a categorical distribution should be a tuple of None, bool, int, float and str for persistent storage but contains [16, 16] which is of type list.\n",
      "  warnings.warn(message)\n",
      "C:\\Users\\Fabrizio Ortega\\.conda\\envs\\condaenv\\Lib\\site-packages\\optuna\\distributions.py:524: UserWarning: Choices for a categorical distribution should be a tuple of None, bool, int, float and str for persistent storage but contains [16, 32, 64, 16] which is of type list.\n",
      "  warnings.warn(message)\n",
      "C:\\Users\\Fabrizio Ortega\\.conda\\envs\\condaenv\\Lib\\site-packages\\optuna\\distributions.py:524: UserWarning: Choices for a categorical distribution should be a tuple of None, bool, int, float and str for persistent storage but contains [10] which is of type list.\n",
      "  warnings.warn(message)\n",
      "C:\\Users\\Fabrizio Ortega\\.conda\\envs\\condaenv\\Lib\\site-packages\\optuna\\distributions.py:524: UserWarning: Choices for a categorical distribution should be a tuple of None, bool, int, float and str for persistent storage but contains [16, 16] which is of type list.\n",
      "  warnings.warn(message)\n",
      "C:\\Users\\Fabrizio Ortega\\.conda\\envs\\condaenv\\Lib\\site-packages\\optuna\\distributions.py:524: UserWarning: Choices for a categorical distribution should be a tuple of None, bool, int, float and str for persistent storage but contains [16, 32, 64, 16] which is of type list.\n",
      "  warnings.warn(message)\n",
      "C:\\Users\\Fabrizio Ortega\\.conda\\envs\\condaenv\\Lib\\site-packages\\optuna\\distributions.py:524: UserWarning: Choices for a categorical distribution should be a tuple of None, bool, int, float and str for persistent storage but contains [10] which is of type list.\n",
      "  warnings.warn(message)\n",
      "C:\\Users\\Fabrizio Ortega\\.conda\\envs\\condaenv\\Lib\\site-packages\\optuna\\distributions.py:524: UserWarning: Choices for a categorical distribution should be a tuple of None, bool, int, float and str for persistent storage but contains [16, 16] which is of type list.\n",
      "  warnings.warn(message)\n",
      "C:\\Users\\Fabrizio Ortega\\.conda\\envs\\condaenv\\Lib\\site-packages\\optuna\\distributions.py:524: UserWarning: Choices for a categorical distribution should be a tuple of None, bool, int, float and str for persistent storage but contains [16, 32, 64, 16] which is of type list.\n",
      "  warnings.warn(message)\n",
      "C:\\Users\\Fabrizio Ortega\\.conda\\envs\\condaenv\\Lib\\site-packages\\optuna\\distributions.py:524: UserWarning: Choices for a categorical distribution should be a tuple of None, bool, int, float and str for persistent storage but contains [10] which is of type list.\n",
      "  warnings.warn(message)\n",
      "C:\\Users\\Fabrizio Ortega\\.conda\\envs\\condaenv\\Lib\\site-packages\\optuna\\distributions.py:524: UserWarning: Choices for a categorical distribution should be a tuple of None, bool, int, float and str for persistent storage but contains [16, 16] which is of type list.\n",
      "  warnings.warn(message)\n",
      "C:\\Users\\Fabrizio Ortega\\.conda\\envs\\condaenv\\Lib\\site-packages\\optuna\\distributions.py:524: UserWarning: Choices for a categorical distribution should be a tuple of None, bool, int, float and str for persistent storage but contains [16, 32, 64, 16] which is of type list.\n",
      "  warnings.warn(message)\n",
      "C:\\Users\\Fabrizio Ortega\\.conda\\envs\\condaenv\\Lib\\site-packages\\optuna\\distributions.py:524: UserWarning: Choices for a categorical distribution should be a tuple of None, bool, int, float and str for persistent storage but contains [10] which is of type list.\n",
      "  warnings.warn(message)\n",
      "C:\\Users\\Fabrizio Ortega\\.conda\\envs\\condaenv\\Lib\\site-packages\\optuna\\distributions.py:524: UserWarning: Choices for a categorical distribution should be a tuple of None, bool, int, float and str for persistent storage but contains [16, 16] which is of type list.\n",
      "  warnings.warn(message)\n",
      "C:\\Users\\Fabrizio Ortega\\.conda\\envs\\condaenv\\Lib\\site-packages\\optuna\\distributions.py:524: UserWarning: Choices for a categorical distribution should be a tuple of None, bool, int, float and str for persistent storage but contains [16, 32, 64, 16] which is of type list.\n",
      "  warnings.warn(message)\n",
      "C:\\Users\\Fabrizio Ortega\\.conda\\envs\\condaenv\\Lib\\site-packages\\optuna\\distributions.py:524: UserWarning: Choices for a categorical distribution should be a tuple of None, bool, int, float and str for persistent storage but contains [10] which is of type list.\n",
      "  warnings.warn(message)\n",
      "C:\\Users\\Fabrizio Ortega\\.conda\\envs\\condaenv\\Lib\\site-packages\\optuna\\distributions.py:524: UserWarning: Choices for a categorical distribution should be a tuple of None, bool, int, float and str for persistent storage but contains [16, 16] which is of type list.\n",
      "  warnings.warn(message)\n",
      "C:\\Users\\Fabrizio Ortega\\.conda\\envs\\condaenv\\Lib\\site-packages\\optuna\\distributions.py:524: UserWarning: Choices for a categorical distribution should be a tuple of None, bool, int, float and str for persistent storage but contains [16, 32, 64, 16] which is of type list.\n",
      "  warnings.warn(message)\n",
      "C:\\Users\\Fabrizio Ortega\\.conda\\envs\\condaenv\\Lib\\site-packages\\optuna\\distributions.py:524: UserWarning: Choices for a categorical distribution should be a tuple of None, bool, int, float and str for persistent storage but contains [10] which is of type list.\n",
      "  warnings.warn(message)\n",
      "C:\\Users\\Fabrizio Ortega\\.conda\\envs\\condaenv\\Lib\\site-packages\\optuna\\distributions.py:524: UserWarning: Choices for a categorical distribution should be a tuple of None, bool, int, float and str for persistent storage but contains [16, 16] which is of type list.\n",
      "  warnings.warn(message)\n",
      "C:\\Users\\Fabrizio Ortega\\.conda\\envs\\condaenv\\Lib\\site-packages\\optuna\\distributions.py:524: UserWarning: Choices for a categorical distribution should be a tuple of None, bool, int, float and str for persistent storage but contains [16, 32, 64, 16] which is of type list.\n",
      "  warnings.warn(message)\n",
      "C:\\Users\\Fabrizio Ortega\\.conda\\envs\\condaenv\\Lib\\site-packages\\optuna\\distributions.py:524: UserWarning: Choices for a categorical distribution should be a tuple of None, bool, int, float and str for persistent storage but contains [10] which is of type list.\n",
      "  warnings.warn(message)\n",
      "C:\\Users\\Fabrizio Ortega\\.conda\\envs\\condaenv\\Lib\\site-packages\\optuna\\distributions.py:524: UserWarning: Choices for a categorical distribution should be a tuple of None, bool, int, float and str for persistent storage but contains [16, 16] which is of type list.\n",
      "  warnings.warn(message)\n",
      "C:\\Users\\Fabrizio Ortega\\.conda\\envs\\condaenv\\Lib\\site-packages\\optuna\\distributions.py:524: UserWarning: Choices for a categorical distribution should be a tuple of None, bool, int, float and str for persistent storage but contains [16, 32, 64, 16] which is of type list.\n",
      "  warnings.warn(message)\n",
      "C:\\Users\\Fabrizio Ortega\\.conda\\envs\\condaenv\\Lib\\site-packages\\optuna\\distributions.py:524: UserWarning: Choices for a categorical distribution should be a tuple of None, bool, int, float and str for persistent storage but contains [10] which is of type list.\n",
      "  warnings.warn(message)\n",
      "C:\\Users\\Fabrizio Ortega\\.conda\\envs\\condaenv\\Lib\\site-packages\\optuna\\distributions.py:524: UserWarning: Choices for a categorical distribution should be a tuple of None, bool, int, float and str for persistent storage but contains [16, 16] which is of type list.\n",
      "  warnings.warn(message)\n",
      "C:\\Users\\Fabrizio Ortega\\.conda\\envs\\condaenv\\Lib\\site-packages\\optuna\\distributions.py:524: UserWarning: Choices for a categorical distribution should be a tuple of None, bool, int, float and str for persistent storage but contains [16, 32, 64, 16] which is of type list.\n",
      "  warnings.warn(message)\n",
      "C:\\Users\\Fabrizio Ortega\\.conda\\envs\\condaenv\\Lib\\site-packages\\optuna\\distributions.py:524: UserWarning: Choices for a categorical distribution should be a tuple of None, bool, int, float and str for persistent storage but contains [10] which is of type list.\n",
      "  warnings.warn(message)\n",
      "C:\\Users\\Fabrizio Ortega\\.conda\\envs\\condaenv\\Lib\\site-packages\\optuna\\distributions.py:524: UserWarning: Choices for a categorical distribution should be a tuple of None, bool, int, float and str for persistent storage but contains [16, 16] which is of type list.\n",
      "  warnings.warn(message)\n",
      "C:\\Users\\Fabrizio Ortega\\.conda\\envs\\condaenv\\Lib\\site-packages\\optuna\\distributions.py:524: UserWarning: Choices for a categorical distribution should be a tuple of None, bool, int, float and str for persistent storage but contains [16, 32, 64, 16] which is of type list.\n",
      "  warnings.warn(message)\n",
      "C:\\Users\\Fabrizio Ortega\\.conda\\envs\\condaenv\\Lib\\site-packages\\optuna\\distributions.py:524: UserWarning: Choices for a categorical distribution should be a tuple of None, bool, int, float and str for persistent storage but contains [10] which is of type list.\n",
      "  warnings.warn(message)\n",
      "C:\\Users\\Fabrizio Ortega\\.conda\\envs\\condaenv\\Lib\\site-packages\\optuna\\distributions.py:524: UserWarning: Choices for a categorical distribution should be a tuple of None, bool, int, float and str for persistent storage but contains [16, 16] which is of type list.\n",
      "  warnings.warn(message)\n",
      "C:\\Users\\Fabrizio Ortega\\.conda\\envs\\condaenv\\Lib\\site-packages\\optuna\\distributions.py:524: UserWarning: Choices for a categorical distribution should be a tuple of None, bool, int, float and str for persistent storage but contains [16, 32, 64, 16] which is of type list.\n",
      "  warnings.warn(message)\n"
     ]
    }
   ],
   "source": [
    "study = optuna.create_study(direction='maximize')\n",
    "study.optimize(objective, n_trials=200,n_jobs=-1)\n",
    "\n",
    "study.best_params"
   ],
   "metadata": {
    "collapsed": false,
    "ExecuteTime": {
     "start_time": "2023-10-04T17:32:01.546190600Z"
    }
   },
   "id": "d6a864aab1714ac0"
  },
  {
   "cell_type": "code",
   "execution_count": 1,
   "outputs": [
    {
     "ename": "NameError",
     "evalue": "name 'x_train' is not defined",
     "output_type": "error",
     "traceback": [
      "\u001B[1;31m---------------------------------------------------------------------------\u001B[0m",
      "\u001B[1;31mNameError\u001B[0m                                 Traceback (most recent call last)",
      "Cell \u001B[1;32mIn[1], line 25\u001B[0m\n\u001B[0;32m      6\u001B[0m model \u001B[38;5;241m=\u001B[39m tf\u001B[38;5;241m.\u001B[39mkeras\u001B[38;5;241m.\u001B[39mmodels\u001B[38;5;241m.\u001B[39mSequential([\n\u001B[0;32m      7\u001B[0m   tf\u001B[38;5;241m.\u001B[39mkeras\u001B[38;5;241m.\u001B[39mlayers\u001B[38;5;241m.\u001B[39mDropout(\u001B[38;5;241m0.1\u001B[39m),\n\u001B[0;32m      8\u001B[0m   tf\u001B[38;5;241m.\u001B[39mkeras\u001B[38;5;241m.\u001B[39mlayers\u001B[38;5;241m.\u001B[39mDense(\u001B[38;5;241m32\u001B[39m, activation\u001B[38;5;241m=\u001B[39m\u001B[38;5;124m'\u001B[39m\u001B[38;5;124mrelu\u001B[39m\u001B[38;5;124m'\u001B[39m,kernel_initializer\u001B[38;5;241m=\u001B[39mtf\u001B[38;5;241m.\u001B[39mkeras\u001B[38;5;241m.\u001B[39minitializers\u001B[38;5;241m.\u001B[39mHeNormal()),\n\u001B[1;32m   (...)\u001B[0m\n\u001B[0;32m     18\u001B[0m   tf\u001B[38;5;241m.\u001B[39mkeras\u001B[38;5;241m.\u001B[39mlayers\u001B[38;5;241m.\u001B[39mDense(\u001B[38;5;241m1\u001B[39m, activation\u001B[38;5;241m=\u001B[39m\u001B[38;5;124m'\u001B[39m\u001B[38;5;124msigmoid\u001B[39m\u001B[38;5;124m'\u001B[39m,kernel_initializer\u001B[38;5;241m=\u001B[39mtf\u001B[38;5;241m.\u001B[39mkeras\u001B[38;5;241m.\u001B[39minitializers\u001B[38;5;241m.\u001B[39mHeNormal())\n\u001B[0;32m     19\u001B[0m ])\n\u001B[0;32m     20\u001B[0m model\u001B[38;5;241m.\u001B[39mcompile(optimizer\u001B[38;5;241m=\u001B[39m\u001B[38;5;124m'\u001B[39m\u001B[38;5;124madam\u001B[39m\u001B[38;5;124m'\u001B[39m,\n\u001B[0;32m     21\u001B[0m               loss\u001B[38;5;241m=\u001B[39mtf\u001B[38;5;241m.\u001B[39mkeras\u001B[38;5;241m.\u001B[39mlosses\u001B[38;5;241m.\u001B[39mBinaryCrossentropy(),\n\u001B[0;32m     22\u001B[0m               metrics\u001B[38;5;241m=\u001B[39m[tf\u001B[38;5;241m.\u001B[39mkeras\u001B[38;5;241m.\u001B[39mmetrics\u001B[38;5;241m.\u001B[39mAUC()])\n\u001B[1;32m---> 25\u001B[0m model\u001B[38;5;241m.\u001B[39mfit(\u001B[43mx_train\u001B[49m, y_train, epochs\u001B[38;5;241m=\u001B[39m\u001B[38;5;241m500\u001B[39m, validation_split\u001B[38;5;241m=\u001B[39m\u001B[38;5;241m0.2\u001B[39m, workers\u001B[38;5;241m=\u001B[39m\u001B[38;5;241m-\u001B[39m\u001B[38;5;241m1\u001B[39m,batch_size\u001B[38;5;241m=\u001B[39m\u001B[38;5;241m300\u001B[39m)\n",
      "\u001B[1;31mNameError\u001B[0m: name 'x_train' is not defined"
     ]
    }
   ],
   "source": [
    "import tensorflow as tf\n",
    "tf.keras.backend.clear_session()\n",
    "\n",
    "p = 0.4\n",
    "\n",
    "model = tf.keras.models.Sequential([\n",
    "  tf.keras.layers.Dropout(0.1),\n",
    "  tf.keras.layers.Dense(32, activation='relu',kernel_initializer=tf.keras.initializers.HeNormal()),\n",
    "  tf.keras.layers.Dropout(p),\n",
    "  tf.keras.layers.Dense(128, activation='relu',kernel_initializer=tf.keras.initializers.HeNormal()),\n",
    "  tf.keras.layers.Dropout(p),\n",
    "  tf.keras.layers.Dense(128*2, activation='relu',kernel_initializer=tf.keras.initializers.HeNormal()),\n",
    "  tf.keras.layers.Dropout(p),\n",
    "  tf.keras.layers.Dense(128*2, activation='relu',kernel_initializer=tf.keras.initializers.HeNormal()),\n",
    "  tf.keras.layers.Dropout(p),\n",
    "  tf.keras.layers.Dense(32, activation='relu',kernel_initializer=tf.keras.initializers.HeNormal()),\n",
    "  tf.keras.layers.Dropout(p),\n",
    "  tf.keras.layers.Dense(1, activation='sigmoid',kernel_initializer=tf.keras.initializers.HeNormal())\n",
    "])\n",
    "model.compile(optimizer='adam',\n",
    "              loss=tf.keras.losses.BinaryCrossentropy(),\n",
    "              metrics=[tf.keras.metrics.AUC()])\n",
    "\n",
    "\n",
    "model.fit(x_train, y_train, epochs=500, validation_split=0.2, workers=-1,batch_size=300)"
   ],
   "metadata": {
    "collapsed": false,
    "ExecuteTime": {
     "end_time": "2023-10-12T21:55:48.728530700Z",
     "start_time": "2023-10-12T21:55:45.135887Z"
    }
   },
   "id": "20b52af0836bb6ba"
  },
  {
   "cell_type": "code",
   "execution_count": 29,
   "outputs": [
    {
     "data": {
      "text/plain": "<Axes: title={'center': 'Feature importance'}, xlabel='F score', ylabel='Features'>"
     },
     "execution_count": 29,
     "metadata": {},
     "output_type": "execute_result"
    },
    {
     "data": {
      "text/plain": "<Figure size 800x550 with 1 Axes>",
      "image/png": "[encoded data removed]"
     },
     "metadata": {},
     "output_type": "display_data"
    }
   ],
   "source": [
    "from xgboost import plot_importance\n",
    "plot_importance(model)"
   ],
   "metadata": {
    "collapsed": false,
    "ExecuteTime": {
     "end_time": "2023-10-04T17:15:24.809291200Z",
     "start_time": "2023-10-04T17:15:24.480550300Z"
    }
   },
   "id": "9182996efbf66b8c"
  },
  {
   "cell_type": "code",
   "execution_count": 26,
   "outputs": [
    {
     "data": {
      "text/plain": "XGBClassifier(base_score=None, booster=None, callbacks=None,\n              colsample_bylevel=None, colsample_bynode=None,\n              colsample_bytree=0.790349885530548, early_stopping_rounds=None,\n              enable_categorical=False, eta=0.29795183295459826,\n              eval_metric=None, feature_types=None, gamma=None, gpu_id=None,\n              grow_policy=None, importance_type=None,\n              interaction_constraints=None, learning_rate=None, max_bin=None,\n              max_cat_threshold=None, max_cat_to_onehot=None,\n              max_delta_step=None, max_depth=2, max_leaves=None,\n              min_child_weight=6, missing=nan, monotone_constraints=None,\n              n_estimators=103, n_jobs=None, num_parallel_tree=None,\n              predictor=None, ...)",
      "text/html": "<style>#sk-container-id-4 {color: black;background-color: white;}#sk-container-id-4 pre{padding: 0;}#sk-container-id-4 div.sk-toggleable {background-color: white;}#sk-container-id-4 label.sk-toggleable__label {cursor: pointer;display: block;width: 100%;margin-bottom: 0;padding: 0.3em;box-sizing: border-box;text-align: center;}#sk-container-id-4 label.sk-toggleable__label-arrow:before {content: \"▸\";float: left;margin-right: 0.25em;color: #696969;}#sk-container-id-4 label.sk-toggleable__label-arrow:hover:before {color: black;}#sk-container-id-4 div.sk-estimator:hover label.sk-toggleable__label-arrow:before {color: black;}#sk-container-id-4 div.sk-toggleable__content {max-height: 0;max-width: 0;overflow: hidden;text-align: left;background-color: #f0f8ff;}#sk-container-id-4 div.sk-toggleable__content pre {margin: 0.2em;color: black;border-radius: 0.25em;background-color: #f0f8ff;}#sk-container-id-4 input.sk-toggleable__control:checked~div.sk-toggleable__content {max-height: 200px;max-width: 100%;overflow: auto;}#sk-container-id-4 input.sk-toggleable__control:checked~label.sk-toggleable__label-arrow:before {content: \"▾\";}#sk-container-id-4 div.sk-estimator input.sk-toggleable__control:checked~label.sk-toggleable__label {background-color: #d4ebff;}#sk-container-id-4 div.sk-label input.sk-toggleable__control:checked~label.sk-toggleable__label {background-color: #d4ebff;}#sk-container-id-4 input.sk-hidden--visually {border: 0;clip: rect(1px 1px 1px 1px);clip: rect(1px, 1px, 1px, 1px);height: 1px;margin: -1px;overflow: hidden;padding: 0;position: absolute;width: 1px;}#sk-container-id-4 div.sk-estimator {font-family: monospace;background-color: #f0f8ff;border: 1px dotted black;border-radius: 0.25em;box-sizing: border-box;margin-bottom: 0.5em;}#sk-container-id-4 div.sk-estimator:hover {background-color: #d4ebff;}#sk-container-id-4 div.sk-parallel-item::after {content: \"\";width: 100%;border-bottom: 1px solid gray;flex-grow: 1;}#sk-container-id-4 div.sk-label:hover label.sk-toggleable__label {background-color: #d4ebff;}#sk-container-id-4 div.sk-serial::before {content: \"\";position: absolute;border-left: 1px solid gray;box-sizing: border-box;top: 0;bottom: 0;left: 50%;z-index: 0;}#sk-container-id-4 div.sk-serial {display: flex;flex-direction: column;align-items: center;background-color: white;padding-right: 0.2em;padding-left: 0.2em;position: relative;}#sk-container-id-4 div.sk-item {position: relative;z-index: 1;}#sk-container-id-4 div.sk-parallel {display: flex;align-items: stretch;justify-content: center;background-color: white;position: relative;}#sk-container-id-4 div.sk-item::before, #sk-container-id-4 div.sk-parallel-item::before {content: \"\";position: absolute;border-left: 1px solid gray;box-sizing: border-box;top: 0;bottom: 0;left: 50%;z-index: -1;}#sk-container-id-4 div.sk-parallel-item {display: flex;flex-direction: column;z-index: 1;position: relative;background-color: white;}#sk-container-id-4 div.sk-parallel-item:first-child::after {align-self: flex-end;width: 50%;}#sk-container-id-4 div.sk-parallel-item:last-child::after {align-self: flex-start;width: 50%;}#sk-container-id-4 div.sk-parallel-item:only-child::after {width: 0;}#sk-container-id-4 div.sk-dashed-wrapped {border: 1px dashed gray;margin: 0 0.4em 0.5em 0.4em;box-sizing: border-box;padding-bottom: 0.4em;background-color: white;}#sk-container-id-4 div.sk-label label {font-family: monospace;font-weight: bold;display: inline-block;line-height: 1.2em;}#sk-container-id-4 div.sk-label-container {text-align: center;}#sk-container-id-4 div.sk-container {/* jupyter's `normalize.less` sets `[hidden] { display: none; }` but bootstrap.min.css set `[hidden] { display: none !important; }` so we also need the `!important` here to be able to override the default hidden behavior on the sphinx rendered scikit-learn.org. See: https://github.com/scikit-learn/scikit-learn/issues/21755 */display: inline-block !important;position: relative;}#sk-container-id-4 div.sk-text-repr-fallback {display: none;}</style><div id=\"sk-container-id-4\" class=\"sk-top-container\"><div class=\"sk-text-repr-fallback\"><pre>XGBClassifier(base_score=None, booster=None, callbacks=None,\n              colsample_bylevel=None, colsample_bynode=None,\n              colsample_bytree=0.790349885530548, early_stopping_rounds=None,\n              enable_categorical=False, eta=0.29795183295459826,\n              eval_metric=None, feature_types=None, gamma=None, gpu_id=None,\n              grow_policy=None, importance_type=None,\n              interaction_constraints=None, learning_rate=None, max_bin=None,\n              max_cat_threshold=None, max_cat_to_onehot=None,\n              max_delta_step=None, max_depth=2, max_leaves=None,\n              min_child_weight=6, missing=nan, monotone_constraints=None,\n              n_estimators=103, n_jobs=None, num_parallel_tree=None,\n              predictor=None, ...)</pre><b>In a Jupyter environment, please rerun this cell to show the HTML representation or trust the notebook. <br />On GitHub, the HTML representation is unable to render, please try loading this page with nbviewer.org.</b></div><div class=\"sk-container\" hidden><div class=\"sk-item\"><div class=\"sk-estimator sk-toggleable\"><input class=\"sk-toggleable__control sk-hidden--visually\" id=\"sk-estimator-id-4\" type=\"checkbox\" checked><label for=\"sk-estimator-id-4\" class=\"sk-toggleable__label sk-toggleable__label-arrow\">XGBClassifier</label><div class=\"sk-toggleable__content\"><pre>XGBClassifier(base_score=None, booster=None, callbacks=None,\n              colsample_bylevel=None, colsample_bynode=None,\n              colsample_bytree=0.790349885530548, early_stopping_rounds=None,\n              enable_categorical=False, eta=0.29795183295459826,\n              eval_metric=None, feature_types=None, gamma=None, gpu_id=None,\n              grow_policy=None, importance_type=None,\n              interaction_constraints=None, learning_rate=None, max_bin=None,\n              max_cat_threshold=None, max_cat_to_onehot=None,\n              max_delta_step=None, max_depth=2, max_leaves=None,\n              min_child_weight=6, missing=nan, monotone_constraints=None,\n              n_estimators=103, n_jobs=None, num_parallel_tree=None,\n              predictor=None, ...)</pre></div></div></div></div></div>"
     },
     "execution_count": 26,
     "metadata": {},
     "output_type": "execute_result"
    }
   ],
   "source": [
    "model = model\n",
    "model.fit(x_train, y_train)"
   ],
   "metadata": {
    "collapsed": false,
    "ExecuteTime": {
     "end_time": "2023-10-04T17:14:16.733395200Z",
     "start_time": "2023-10-04T17:14:16.018365300Z"
    }
   },
   "id": "a5e96b61b96ff7d5"
  },
  {
   "cell_type": "code",
   "execution_count": 27,
   "outputs": [
    {
     "data": {
      "text/plain": "0.7899264164502782"
     },
     "execution_count": 27,
     "metadata": {},
     "output_type": "execute_result"
    }
   ],
   "source": [
    "\n",
    "roc_auc_score(y_test, model.predict_proba(x_test)[:, 1])"
   ],
   "metadata": {
    "collapsed": false,
    "ExecuteTime": {
     "end_time": "2023-10-04T17:14:17.192214800Z",
     "start_time": "2023-10-04T17:14:17.161987100Z"
    }
   },
   "id": "aaffc58603e1a0ca"
  },
  {
   "cell_type": "code",
   "execution_count": 28,
   "outputs": [
    {
     "data": {
      "text/plain": "           id   defects\n0      101763  0.228642\n1      101764  0.201618\n2      101765  0.676601\n3      101766  0.463311\n4      101767  0.127739\n...       ...       ...\n67837  169600  0.286261\n67838  169601  0.109549\n67839  169602  0.178473\n67840  169603  0.095560\n67841  169604  0.728913\n\n[67842 rows x 2 columns]",
      "text/html": "<div>\n<style scoped>\n    .dataframe tbody tr th:only-of-type {\n        vertical-align: middle;\n    }\n\n    .dataframe tbody tr th {\n        vertical-align: top;\n    }\n\n    .dataframe thead th {\n        text-align: right;\n    }\n</style>\n<table border=\"1\" class=\"dataframe\">\n  <thead>\n    <tr style=\"text-align: right;\">\n      <th></th>\n      <th>id</th>\n      <th>defects</th>\n    </tr>\n  </thead>\n  <tbody>\n    <tr>\n      <th>0</th>\n      <td>101763</td>\n      <td>0.228642</td>\n    </tr>\n    <tr>\n      <th>1</th>\n      <td>101764</td>\n      <td>0.201618</td>\n    </tr>\n    <tr>\n      <th>2</th>\n      <td>101765</td>\n      <td>0.676601</td>\n    </tr>\n    <tr>\n      <th>3</th>\n      <td>101766</td>\n      <td>0.463311</td>\n    </tr>\n    <tr>\n      <th>4</th>\n      <td>101767</td>\n      <td>0.127739</td>\n    </tr>\n    <tr>\n      <th>...</th>\n      <td>...</td>\n      <td>...</td>\n    </tr>\n    <tr>\n      <th>67837</th>\n      <td>169600</td>\n      <td>0.286261</td>\n    </tr>\n    <tr>\n      <th>67838</th>\n      <td>169601</td>\n      <td>0.109549</td>\n    </tr>\n    <tr>\n      <th>67839</th>\n      <td>169602</td>\n      <td>0.178473</td>\n    </tr>\n    <tr>\n      <th>67840</th>\n      <td>169603</td>\n      <td>0.095560</td>\n    </tr>\n    <tr>\n      <th>67841</th>\n      <td>169604</td>\n      <td>0.728913</td>\n    </tr>\n  </tbody>\n</table>\n<p>67842 rows × 2 columns</p>\n</div>"
     },
     "execution_count": 28,
     "metadata": {},
     "output_type": "execute_result"
    }
   ],
   "source": [
    "x_test_sub = df[df.defects.isna()].drop(columns='defects')\n",
    "y_pred = model.predict_proba(x_test_sub)[:,1]\n",
    "sub = pd.DataFrame.from_dict({'id':x_test_sub.index, 'defects':y_pred})\n",
    "sub.to_csv(\"../resources/test_submission.csv\",columns=[\"id\",\"defects\"],index=False)\n",
    "sub"
   ],
   "metadata": {
    "collapsed": false,
    "ExecuteTime": {
     "end_time": "2023-10-04T17:14:34.496221700Z",
     "start_time": "2023-10-04T17:14:34.320520100Z"
    }
   },
   "id": "e1ee3b5f76695740"
  },
  {
   "cell_type": "code",
   "execution_count": null,
   "outputs": [],
   "source": [],
   "metadata": {
    "collapsed": false
   },
   "id": "532951589e56787a"
  }
 ],
 "metadata": {
  "kernelspec": {
   "display_name": "Python 3",
   "language": "python",
   "name": "python3"
  },
  "language_info": {
   "codemirror_mode": {
    "name": "ipython",
    "version": 2
   },
   "file_extension": ".py",
   "mimetype": "text/x-python",
   "name": "python",
   "nbconvert_exporter": "python",
   "pygments_lexer": "ipython2",
   "version": "2.7.6"
  }
 },
 "nbformat": 4,
 "nbformat_minor": 5
}
