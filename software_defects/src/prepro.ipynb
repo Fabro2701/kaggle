{
 "cells": [
  {
   "cell_type": "code",
   "execution_count": 20,
   "id": "initial_id",
   "metadata": {
    "collapsed": true,
    "ExecuteTime": {
     "end_time": "2023-10-04T00:17:13.612984700Z",
     "start_time": "2023-10-04T00:17:13.602036Z"
    }
   },
   "outputs": [],
   "source": [
    "import numpy as np\n",
    "import pandas as pd\n",
    "import matplotlib.pyplot as plt\n",
    "import sys\n",
    "import random\n",
    "import seaborn as sns\n",
    "import math\n",
    "from sklearn.utils import shuffle"
   ]
  },
  {
   "cell_type": "code",
   "execution_count": 66,
   "outputs": [
    {
     "data": {
      "text/plain": "            id     loc  v(g)  ev(g)  iv(g)      n        v     l      d  \\\n0        10678    17.0   4.0    3.0    2.0   27.0   110.36  0.11   9.17   \n1        10475    34.0   6.0    4.0    5.0  106.0   571.59  0.05  19.90   \n2        48192  1129.0  82.0    1.0   82.0    0.0     0.00  0.00   0.00   \n3        12505    32.0   5.0    1.0    1.0   61.0   279.68  0.07  14.77   \n4        43209   156.0  12.0    9.0    9.0  359.0  2508.70  0.02  43.15   \n...        ...     ...   ...    ...    ...    ...      ...   ...    ...   \n169600  169600    41.0   1.0    1.0    1.0  125.0   656.55  0.07  14.00   \n169601  169601    20.0   3.0    1.0    3.0   38.0   161.42  0.15   6.75   \n169602  169602    24.0   2.0    1.0    2.0   52.0   240.00  0.11   9.00   \n169603  169603    18.0   2.0    1.0    1.0   49.0   216.64  0.11   9.33   \n169604  169604   101.0  15.0   10.0    5.0    0.0     0.00  0.00   0.00   \n\n            i  ...  lOCode  lOComment  lOBlank  locCodeAndComment  uniq_Op  \\\n0       12.89  ...      13          0        2                  0     11.0   \n1       31.39  ...      23          1        7                  0     19.0   \n2        0.00  ...       0          0        0                  0      0.0   \n3       18.93  ...      30          4        4                  0     13.0   \n4       61.62  ...      76         29       61                 12     27.0   \n...       ...  ...     ...        ...      ...                ...      ...   \n169600  47.61  ...      31          0        7                  0     14.0   \n169601  23.28  ...      15          0        3                  0      9.0   \n169602  26.67  ...      18          0        4                  0     16.0   \n169603  24.02  ...      12          0        2                  0      8.0   \n169604   0.00  ...       0          0        0                  0      0.0   \n\n        uniq_Opnd  total_Op  total_Opnd  branchCount  defects  \n0             6.0      17.0        10.0          7.0    False  \n1            21.0      63.0        41.0         11.0    False  \n2             0.0       0.0         0.0        163.0     True  \n3            11.0      43.0        19.0          9.0    False  \n4            51.0     268.0       139.0         23.0     True  \n...           ...       ...         ...          ...      ...  \n169600       27.0      71.0        54.0          1.0      NaN  \n169601       10.0      23.0        15.0          5.0      NaN  \n169602       16.0      36.0        18.0          3.0      NaN  \n169603       12.0      29.0        22.0          3.0      NaN  \n169604        0.0       0.0         0.0         29.0      NaN  \n\n[169605 rows x 23 columns]",
      "text/html": "<div>\n<style scoped>\n    .dataframe tbody tr th:only-of-type {\n        vertical-align: middle;\n    }\n\n    .dataframe tbody tr th {\n        vertical-align: top;\n    }\n\n    .dataframe thead th {\n        text-align: right;\n    }\n</style>\n<table border=\"1\" class=\"dataframe\">\n  <thead>\n    <tr style=\"text-align: right;\">\n      <th></th>\n      <th>id</th>\n      <th>loc</th>\n      <th>v(g)</th>\n      <th>ev(g)</th>\n      <th>iv(g)</th>\n      <th>n</th>\n      <th>v</th>\n      <th>l</th>\n      <th>d</th>\n      <th>i</th>\n      <th>...</th>\n      <th>lOCode</th>\n      <th>lOComment</th>\n      <th>lOBlank</th>\n      <th>locCodeAndComment</th>\n      <th>uniq_Op</th>\n      <th>uniq_Opnd</th>\n      <th>total_Op</th>\n      <th>total_Opnd</th>\n      <th>branchCount</th>\n      <th>defects</th>\n    </tr>\n  </thead>\n  <tbody>\n    <tr>\n      <th>0</th>\n      <td>10678</td>\n      <td>17.0</td>\n      <td>4.0</td>\n      <td>3.0</td>\n      <td>2.0</td>\n      <td>27.0</td>\n      <td>110.36</td>\n      <td>0.11</td>\n      <td>9.17</td>\n      <td>12.89</td>\n      <td>...</td>\n      <td>13</td>\n      <td>0</td>\n      <td>2</td>\n      <td>0</td>\n      <td>11.0</td>\n      <td>6.0</td>\n      <td>17.0</td>\n      <td>10.0</td>\n      <td>7.0</td>\n      <td>False</td>\n    </tr>\n    <tr>\n      <th>1</th>\n      <td>10475</td>\n      <td>34.0</td>\n      <td>6.0</td>\n      <td>4.0</td>\n      <td>5.0</td>\n      <td>106.0</td>\n      <td>571.59</td>\n      <td>0.05</td>\n      <td>19.90</td>\n      <td>31.39</td>\n      <td>...</td>\n      <td>23</td>\n      <td>1</td>\n      <td>7</td>\n      <td>0</td>\n      <td>19.0</td>\n      <td>21.0</td>\n      <td>63.0</td>\n      <td>41.0</td>\n      <td>11.0</td>\n      <td>False</td>\n    </tr>\n    <tr>\n      <th>2</th>\n      <td>48192</td>\n      <td>1129.0</td>\n      <td>82.0</td>\n      <td>1.0</td>\n      <td>82.0</td>\n      <td>0.0</td>\n      <td>0.00</td>\n      <td>0.00</td>\n      <td>0.00</td>\n      <td>0.00</td>\n      <td>...</td>\n      <td>0</td>\n      <td>0</td>\n      <td>0</td>\n      <td>0</td>\n      <td>0.0</td>\n      <td>0.0</td>\n      <td>0.0</td>\n      <td>0.0</td>\n      <td>163.0</td>\n      <td>True</td>\n    </tr>\n    <tr>\n      <th>3</th>\n      <td>12505</td>\n      <td>32.0</td>\n      <td>5.0</td>\n      <td>1.0</td>\n      <td>1.0</td>\n      <td>61.0</td>\n      <td>279.68</td>\n      <td>0.07</td>\n      <td>14.77</td>\n      <td>18.93</td>\n      <td>...</td>\n      <td>30</td>\n      <td>4</td>\n      <td>4</td>\n      <td>0</td>\n      <td>13.0</td>\n      <td>11.0</td>\n      <td>43.0</td>\n      <td>19.0</td>\n      <td>9.0</td>\n      <td>False</td>\n    </tr>\n    <tr>\n      <th>4</th>\n      <td>43209</td>\n      <td>156.0</td>\n      <td>12.0</td>\n      <td>9.0</td>\n      <td>9.0</td>\n      <td>359.0</td>\n      <td>2508.70</td>\n      <td>0.02</td>\n      <td>43.15</td>\n      <td>61.62</td>\n      <td>...</td>\n      <td>76</td>\n      <td>29</td>\n      <td>61</td>\n      <td>12</td>\n      <td>27.0</td>\n      <td>51.0</td>\n      <td>268.0</td>\n      <td>139.0</td>\n      <td>23.0</td>\n      <td>True</td>\n    </tr>\n    <tr>\n      <th>...</th>\n      <td>...</td>\n      <td>...</td>\n      <td>...</td>\n      <td>...</td>\n      <td>...</td>\n      <td>...</td>\n      <td>...</td>\n      <td>...</td>\n      <td>...</td>\n      <td>...</td>\n      <td>...</td>\n      <td>...</td>\n      <td>...</td>\n      <td>...</td>\n      <td>...</td>\n      <td>...</td>\n      <td>...</td>\n      <td>...</td>\n      <td>...</td>\n      <td>...</td>\n      <td>...</td>\n    </tr>\n    <tr>\n      <th>169600</th>\n      <td>169600</td>\n      <td>41.0</td>\n      <td>1.0</td>\n      <td>1.0</td>\n      <td>1.0</td>\n      <td>125.0</td>\n      <td>656.55</td>\n      <td>0.07</td>\n      <td>14.00</td>\n      <td>47.61</td>\n      <td>...</td>\n      <td>31</td>\n      <td>0</td>\n      <td>7</td>\n      <td>0</td>\n      <td>14.0</td>\n      <td>27.0</td>\n      <td>71.0</td>\n      <td>54.0</td>\n      <td>1.0</td>\n      <td>NaN</td>\n    </tr>\n    <tr>\n      <th>169601</th>\n      <td>169601</td>\n      <td>20.0</td>\n      <td>3.0</td>\n      <td>1.0</td>\n      <td>3.0</td>\n      <td>38.0</td>\n      <td>161.42</td>\n      <td>0.15</td>\n      <td>6.75</td>\n      <td>23.28</td>\n      <td>...</td>\n      <td>15</td>\n      <td>0</td>\n      <td>3</td>\n      <td>0</td>\n      <td>9.0</td>\n      <td>10.0</td>\n      <td>23.0</td>\n      <td>15.0</td>\n      <td>5.0</td>\n      <td>NaN</td>\n    </tr>\n    <tr>\n      <th>169602</th>\n      <td>169602</td>\n      <td>24.0</td>\n      <td>2.0</td>\n      <td>1.0</td>\n      <td>2.0</td>\n      <td>52.0</td>\n      <td>240.00</td>\n      <td>0.11</td>\n      <td>9.00</td>\n      <td>26.67</td>\n      <td>...</td>\n      <td>18</td>\n      <td>0</td>\n      <td>4</td>\n      <td>0</td>\n      <td>16.0</td>\n      <td>16.0</td>\n      <td>36.0</td>\n      <td>18.0</td>\n      <td>3.0</td>\n      <td>NaN</td>\n    </tr>\n    <tr>\n      <th>169603</th>\n      <td>169603</td>\n      <td>18.0</td>\n      <td>2.0</td>\n      <td>1.0</td>\n      <td>1.0</td>\n      <td>49.0</td>\n      <td>216.64</td>\n      <td>0.11</td>\n      <td>9.33</td>\n      <td>24.02</td>\n      <td>...</td>\n      <td>12</td>\n      <td>0</td>\n      <td>2</td>\n      <td>0</td>\n      <td>8.0</td>\n      <td>12.0</td>\n      <td>29.0</td>\n      <td>22.0</td>\n      <td>3.0</td>\n      <td>NaN</td>\n    </tr>\n    <tr>\n      <th>169604</th>\n      <td>169604</td>\n      <td>101.0</td>\n      <td>15.0</td>\n      <td>10.0</td>\n      <td>5.0</td>\n      <td>0.0</td>\n      <td>0.00</td>\n      <td>0.00</td>\n      <td>0.00</td>\n      <td>0.00</td>\n      <td>...</td>\n      <td>0</td>\n      <td>0</td>\n      <td>0</td>\n      <td>0</td>\n      <td>0.0</td>\n      <td>0.0</td>\n      <td>0.0</td>\n      <td>0.0</td>\n      <td>29.0</td>\n      <td>NaN</td>\n    </tr>\n  </tbody>\n</table>\n<p>169605 rows × 23 columns</p>\n</div>"
     },
     "execution_count": 66,
     "metadata": {},
     "output_type": "execute_result"
    }
   ],
   "source": [
    "train = pd.read_csv(\"../resources/train.csv\")\n",
    "train = shuffle(train)\n",
    "test = pd.read_csv(\"../resources/test.csv\")\n",
    "df = pd.concat([train, test], ignore_index=True)\n",
    "df"
   ],
   "metadata": {
    "collapsed": false,
    "ExecuteTime": {
     "end_time": "2023-10-04T00:39:50.198611200Z",
     "start_time": "2023-10-04T00:39:49.918742Z"
    }
   },
   "id": "b45c446cb561980b"
  },
  {
   "cell_type": "code",
   "execution_count": 22,
   "outputs": [
    {
     "name": "stdout",
     "output_type": "stream",
     "text": [
      "<class 'pandas.core.frame.DataFrame'>\n",
      "RangeIndex: 169605 entries, 0 to 169604\n",
      "Data columns (total 23 columns):\n",
      " #   Column             Non-Null Count   Dtype  \n",
      "---  ------             --------------   -----  \n",
      " 0   id                 169605 non-null  int64  \n",
      " 1   loc                169605 non-null  float64\n",
      " 2   v(g)               169605 non-null  float64\n",
      " 3   ev(g)              169605 non-null  float64\n",
      " 4   iv(g)              169605 non-null  float64\n",
      " 5   n                  169605 non-null  float64\n",
      " 6   v                  169605 non-null  float64\n",
      " 7   l                  169605 non-null  float64\n",
      " 8   d                  169605 non-null  float64\n",
      " 9   i                  169605 non-null  float64\n",
      " 10  e                  169605 non-null  float64\n",
      " 11  b                  169605 non-null  float64\n",
      " 12  t                  169605 non-null  float64\n",
      " 13  lOCode             169605 non-null  int64  \n",
      " 14  lOComment          169605 non-null  int64  \n",
      " 15  lOBlank            169605 non-null  int64  \n",
      " 16  locCodeAndComment  169605 non-null  int64  \n",
      " 17  uniq_Op            169605 non-null  float64\n",
      " 18  uniq_Opnd          169605 non-null  float64\n",
      " 19  total_Op           169605 non-null  float64\n",
      " 20  total_Opnd         169605 non-null  float64\n",
      " 21  branchCount        169605 non-null  float64\n",
      " 22  defects            101763 non-null  object \n",
      "dtypes: float64(17), int64(5), object(1)\n",
      "memory usage: 29.8+ MB\n"
     ]
    }
   ],
   "source": [
    "df.info()"
   ],
   "metadata": {
    "collapsed": false,
    "ExecuteTime": {
     "end_time": "2023-10-04T00:17:14.163095300Z",
     "start_time": "2023-10-04T00:17:14.146567200Z"
    }
   },
   "id": "60d6eca4da93b2cd"
  },
  {
   "cell_type": "code",
   "execution_count": 63,
   "outputs": [
    {
     "data": {
      "text/plain": "                      count          mean            std       min  \\\nloc                169605.0  3.755067e+01      55.081312  1.000000   \nv(g)               169605.0  5.519395e+00       8.037202  1.000000   \nev(g)              169605.0  2.850093e+00       4.645327  1.000000   \niv(g)              169605.0  3.513582e+00       5.457213  1.000000   \nn                  169605.0  9.728247e+01     174.382662  0.000000   \nv                  169605.0  5.423376e+02    1290.058400  0.000000   \nl                  169605.0  1.115886e-01       0.100394  0.000000   \nd                  169605.0  1.371412e+01      14.268893  0.000000   \ni                  169605.0  2.759795e+01      23.083858  0.000000   \ne                  169605.0  2.137788e+04  197423.777899  0.000000   \nb                  169605.0  1.803284e-01       0.420508  0.000000   \nt                  169605.0  1.172288e+03   10222.366936  0.000000   \nlOCode             169605.0  2.293424e+01      38.970984  0.000000   \nlOComment          169605.0  1.797364e+00       6.035240  0.000000   \nlOBlank            169605.0  3.996215e+00       6.694043  0.000000   \nlocCodeAndComment  169605.0  1.982960e-01       1.017421  0.000000   \nuniq_Op            169605.0  1.190159e+01       6.840300  0.000000   \nuniq_Opnd          169605.0  1.562935e+01      18.030343  0.000000   \ntotal_Op           169605.0  5.790695e+01     104.920461  0.000000   \ntotal_Opnd         169605.0  3.948792e+01      72.120173  0.000000   \nbranchCount        169605.0  9.898099e+00      14.792002  1.000000   \ndefects            101763.0  2.266443e-01       0.418663  0.000000   \nopnd_per_op        169605.0           inf            NaN  0.000000   \nprone_v            169605.0  1.224964e-01       0.327859  0.000000   \nno_comments        169605.0  7.151912e-01       0.451325  0.000000   \nbranch_pctg        169605.0  2.165383e+00       8.053456  0.000354   \n\n                          25%          50%           75%          max  \nloc                 13.000000    22.000000     42.000000      3442.00  \nv(g)                 2.000000     3.000000      6.000000       470.00  \nev(g)                1.000000     1.000000      3.000000       165.00  \niv(g)                1.000000     2.000000      4.000000       402.00  \nn                   25.000000    51.000000    111.000000      8441.00  \nv                   96.790000   232.790000    560.250000     80843.08  \nl                    0.050000     0.090000      0.150000         1.00  \nd                    5.570000     9.820000     18.000000       418.20  \ni                   15.560000    23.280000     34.290000       569.78  \ne                  564.630000  2265.870000  10159.300000  16846621.12  \nb                    0.030000     0.080000      0.190000        26.95  \nt                   31.370000   125.910000    564.410000    935923.39  \nlOCode               7.000000    14.000000     26.000000      2824.00  \nlOComment            0.000000     0.000000      1.000000       344.00  \nlOBlank              1.000000     2.000000      5.000000       447.00  \nlocCodeAndComment    0.000000     0.000000      0.000000        43.00  \nuniq_Op              8.000000    11.000000     16.000000       411.00  \nuniq_Opnd            7.000000    12.000000     20.000000      1026.00  \ntotal_Op            15.000000    30.000000     66.000000      5420.00  \ntotal_Opnd          10.000000    20.000000     44.000000      3021.00  \nbranchCount          3.000000     5.000000     11.000000       826.00  \ndefects              0.000000     0.000000      0.000000         1.00  \nopnd_per_op          0.562500     0.666667      0.755556          inf  \nprone_v              0.000000     0.000000      0.000000         1.00  \nno_comments          0.000000     1.000000      1.000000         1.00  \nbranch_pctg          0.230769     0.333333      0.500000       503.00  ",
      "text/html": "<div>\n<style scoped>\n    .dataframe tbody tr th:only-of-type {\n        vertical-align: middle;\n    }\n\n    .dataframe tbody tr th {\n        vertical-align: top;\n    }\n\n    .dataframe thead th {\n        text-align: right;\n    }\n</style>\n<table border=\"1\" class=\"dataframe\">\n  <thead>\n    <tr style=\"text-align: right;\">\n      <th></th>\n      <th>count</th>\n      <th>mean</th>\n      <th>std</th>\n      <th>min</th>\n      <th>25%</th>\n      <th>50%</th>\n      <th>75%</th>\n      <th>max</th>\n    </tr>\n  </thead>\n  <tbody>\n    <tr>\n      <th>loc</th>\n      <td>169605.0</td>\n      <td>3.755067e+01</td>\n      <td>55.081312</td>\n      <td>1.000000</td>\n      <td>13.000000</td>\n      <td>22.000000</td>\n      <td>42.000000</td>\n      <td>3442.00</td>\n    </tr>\n    <tr>\n      <th>v(g)</th>\n      <td>169605.0</td>\n      <td>5.519395e+00</td>\n      <td>8.037202</td>\n      <td>1.000000</td>\n      <td>2.000000</td>\n      <td>3.000000</td>\n      <td>6.000000</td>\n      <td>470.00</td>\n    </tr>\n    <tr>\n      <th>ev(g)</th>\n      <td>169605.0</td>\n      <td>2.850093e+00</td>\n      <td>4.645327</td>\n      <td>1.000000</td>\n      <td>1.000000</td>\n      <td>1.000000</td>\n      <td>3.000000</td>\n      <td>165.00</td>\n    </tr>\n    <tr>\n      <th>iv(g)</th>\n      <td>169605.0</td>\n      <td>3.513582e+00</td>\n      <td>5.457213</td>\n      <td>1.000000</td>\n      <td>1.000000</td>\n      <td>2.000000</td>\n      <td>4.000000</td>\n      <td>402.00</td>\n    </tr>\n    <tr>\n      <th>n</th>\n      <td>169605.0</td>\n      <td>9.728247e+01</td>\n      <td>174.382662</td>\n      <td>0.000000</td>\n      <td>25.000000</td>\n      <td>51.000000</td>\n      <td>111.000000</td>\n      <td>8441.00</td>\n    </tr>\n    <tr>\n      <th>v</th>\n      <td>169605.0</td>\n      <td>5.423376e+02</td>\n      <td>1290.058400</td>\n      <td>0.000000</td>\n      <td>96.790000</td>\n      <td>232.790000</td>\n      <td>560.250000</td>\n      <td>80843.08</td>\n    </tr>\n    <tr>\n      <th>l</th>\n      <td>169605.0</td>\n      <td>1.115886e-01</td>\n      <td>0.100394</td>\n      <td>0.000000</td>\n      <td>0.050000</td>\n      <td>0.090000</td>\n      <td>0.150000</td>\n      <td>1.00</td>\n    </tr>\n    <tr>\n      <th>d</th>\n      <td>169605.0</td>\n      <td>1.371412e+01</td>\n      <td>14.268893</td>\n      <td>0.000000</td>\n      <td>5.570000</td>\n      <td>9.820000</td>\n      <td>18.000000</td>\n      <td>418.20</td>\n    </tr>\n    <tr>\n      <th>i</th>\n      <td>169605.0</td>\n      <td>2.759795e+01</td>\n      <td>23.083858</td>\n      <td>0.000000</td>\n      <td>15.560000</td>\n      <td>23.280000</td>\n      <td>34.290000</td>\n      <td>569.78</td>\n    </tr>\n    <tr>\n      <th>e</th>\n      <td>169605.0</td>\n      <td>2.137788e+04</td>\n      <td>197423.777899</td>\n      <td>0.000000</td>\n      <td>564.630000</td>\n      <td>2265.870000</td>\n      <td>10159.300000</td>\n      <td>16846621.12</td>\n    </tr>\n    <tr>\n      <th>b</th>\n      <td>169605.0</td>\n      <td>1.803284e-01</td>\n      <td>0.420508</td>\n      <td>0.000000</td>\n      <td>0.030000</td>\n      <td>0.080000</td>\n      <td>0.190000</td>\n      <td>26.95</td>\n    </tr>\n    <tr>\n      <th>t</th>\n      <td>169605.0</td>\n      <td>1.172288e+03</td>\n      <td>10222.366936</td>\n      <td>0.000000</td>\n      <td>31.370000</td>\n      <td>125.910000</td>\n      <td>564.410000</td>\n      <td>935923.39</td>\n    </tr>\n    <tr>\n      <th>lOCode</th>\n      <td>169605.0</td>\n      <td>2.293424e+01</td>\n      <td>38.970984</td>\n      <td>0.000000</td>\n      <td>7.000000</td>\n      <td>14.000000</td>\n      <td>26.000000</td>\n      <td>2824.00</td>\n    </tr>\n    <tr>\n      <th>lOComment</th>\n      <td>169605.0</td>\n      <td>1.797364e+00</td>\n      <td>6.035240</td>\n      <td>0.000000</td>\n      <td>0.000000</td>\n      <td>0.000000</td>\n      <td>1.000000</td>\n      <td>344.00</td>\n    </tr>\n    <tr>\n      <th>lOBlank</th>\n      <td>169605.0</td>\n      <td>3.996215e+00</td>\n      <td>6.694043</td>\n      <td>0.000000</td>\n      <td>1.000000</td>\n      <td>2.000000</td>\n      <td>5.000000</td>\n      <td>447.00</td>\n    </tr>\n    <tr>\n      <th>locCodeAndComment</th>\n      <td>169605.0</td>\n      <td>1.982960e-01</td>\n      <td>1.017421</td>\n      <td>0.000000</td>\n      <td>0.000000</td>\n      <td>0.000000</td>\n      <td>0.000000</td>\n      <td>43.00</td>\n    </tr>\n    <tr>\n      <th>uniq_Op</th>\n      <td>169605.0</td>\n      <td>1.190159e+01</td>\n      <td>6.840300</td>\n      <td>0.000000</td>\n      <td>8.000000</td>\n      <td>11.000000</td>\n      <td>16.000000</td>\n      <td>411.00</td>\n    </tr>\n    <tr>\n      <th>uniq_Opnd</th>\n      <td>169605.0</td>\n      <td>1.562935e+01</td>\n      <td>18.030343</td>\n      <td>0.000000</td>\n      <td>7.000000</td>\n      <td>12.000000</td>\n      <td>20.000000</td>\n      <td>1026.00</td>\n    </tr>\n    <tr>\n      <th>total_Op</th>\n      <td>169605.0</td>\n      <td>5.790695e+01</td>\n      <td>104.920461</td>\n      <td>0.000000</td>\n      <td>15.000000</td>\n      <td>30.000000</td>\n      <td>66.000000</td>\n      <td>5420.00</td>\n    </tr>\n    <tr>\n      <th>total_Opnd</th>\n      <td>169605.0</td>\n      <td>3.948792e+01</td>\n      <td>72.120173</td>\n      <td>0.000000</td>\n      <td>10.000000</td>\n      <td>20.000000</td>\n      <td>44.000000</td>\n      <td>3021.00</td>\n    </tr>\n    <tr>\n      <th>branchCount</th>\n      <td>169605.0</td>\n      <td>9.898099e+00</td>\n      <td>14.792002</td>\n      <td>1.000000</td>\n      <td>3.000000</td>\n      <td>5.000000</td>\n      <td>11.000000</td>\n      <td>826.00</td>\n    </tr>\n    <tr>\n      <th>defects</th>\n      <td>101763.0</td>\n      <td>2.266443e-01</td>\n      <td>0.418663</td>\n      <td>0.000000</td>\n      <td>0.000000</td>\n      <td>0.000000</td>\n      <td>0.000000</td>\n      <td>1.00</td>\n    </tr>\n    <tr>\n      <th>opnd_per_op</th>\n      <td>169605.0</td>\n      <td>inf</td>\n      <td>NaN</td>\n      <td>0.000000</td>\n      <td>0.562500</td>\n      <td>0.666667</td>\n      <td>0.755556</td>\n      <td>inf</td>\n    </tr>\n    <tr>\n      <th>prone_v</th>\n      <td>169605.0</td>\n      <td>1.224964e-01</td>\n      <td>0.327859</td>\n      <td>0.000000</td>\n      <td>0.000000</td>\n      <td>0.000000</td>\n      <td>0.000000</td>\n      <td>1.00</td>\n    </tr>\n    <tr>\n      <th>no_comments</th>\n      <td>169605.0</td>\n      <td>7.151912e-01</td>\n      <td>0.451325</td>\n      <td>0.000000</td>\n      <td>0.000000</td>\n      <td>1.000000</td>\n      <td>1.000000</td>\n      <td>1.00</td>\n    </tr>\n    <tr>\n      <th>branch_pctg</th>\n      <td>169605.0</td>\n      <td>2.165383e+00</td>\n      <td>8.053456</td>\n      <td>0.000354</td>\n      <td>0.230769</td>\n      <td>0.333333</td>\n      <td>0.500000</td>\n      <td>503.00</td>\n    </tr>\n  </tbody>\n</table>\n</div>"
     },
     "execution_count": 63,
     "metadata": {},
     "output_type": "execute_result"
    }
   ],
   "source": [
    "df.describe(include = \"all\").T"
   ],
   "metadata": {
    "collapsed": false,
    "ExecuteTime": {
     "end_time": "2023-10-04T00:38:24.281650300Z",
     "start_time": "2023-10-04T00:38:24.161947700Z"
    }
   },
   "id": "6e6df01185e26796"
  },
  {
   "cell_type": "code",
   "execution_count": 24,
   "outputs": [
    {
     "data": {
      "text/plain": "defects\nFalse    78699\nTrue     23064\nName: count, dtype: int64"
     },
     "execution_count": 24,
     "metadata": {},
     "output_type": "execute_result"
    }
   ],
   "source": [
    "df.defects.value_counts()"
   ],
   "metadata": {
    "collapsed": false,
    "ExecuteTime": {
     "end_time": "2023-10-04T00:17:15.575640500Z",
     "start_time": "2023-10-04T00:17:15.563823700Z"
    }
   },
   "id": "29aed87a0cde963a"
  },
  {
   "cell_type": "code",
   "execution_count": 67,
   "outputs": [],
   "source": [
    "df = df.assign(opnd_per_op = df.total_Opnd/(df.total_Op+1),\n",
    "               prone_v = (df['v(g)']>10).astype(int),\n",
    "               no_comments = (df.lOComment==0).astype(int),\n",
    "               branch_pctg = df.branchCount/(df.lOCode+1),\n",
    "               complexity = (df['v(g)']+df['ev(g)']+df['iv(g)'])/3.0\n",
    "               )\n",
    "df = df.drop(columns='id')\n",
    "df.defects = df.defects.map({True:1,False:0})"
   ],
   "metadata": {
    "collapsed": false,
    "ExecuteTime": {
     "end_time": "2023-10-04T00:39:52.850518800Z",
     "start_time": "2023-10-04T00:39:52.811044Z"
    }
   },
   "id": "47538187868f21a4"
  },
  {
   "cell_type": "code",
   "execution_count": 68,
   "outputs": [
    {
     "data": {
      "text/plain": "           loc  v(g)  ev(g)  iv(g)      n        v     l      d      i  \\\n0         17.0   4.0    3.0    2.0   27.0   110.36  0.11   9.17  12.89   \n1         34.0   6.0    4.0    5.0  106.0   571.59  0.05  19.90  31.39   \n2       1129.0  82.0    1.0   82.0    0.0     0.00  0.00   0.00   0.00   \n3         32.0   5.0    1.0    1.0   61.0   279.68  0.07  14.77  18.93   \n4        156.0  12.0    9.0    9.0  359.0  2508.70  0.02  43.15  61.62   \n...        ...   ...    ...    ...    ...      ...   ...    ...    ...   \n169600    41.0   1.0    1.0    1.0  125.0   656.55  0.07  14.00  47.61   \n169601    20.0   3.0    1.0    3.0   38.0   161.42  0.15   6.75  23.28   \n169602    24.0   2.0    1.0    2.0   52.0   240.00  0.11   9.00  26.67   \n169603    18.0   2.0    1.0    1.0   49.0   216.64  0.11   9.33  24.02   \n169604   101.0  15.0   10.0    5.0    0.0     0.00  0.00   0.00   0.00   \n\n                e  ...  uniq_Op  uniq_Opnd  total_Op  total_Opnd  branchCount  \\\n0          990.00  ...     11.0        6.0      17.0        10.0          7.0   \n1        11627.48  ...     19.0       21.0      63.0        41.0         11.0   \n2            0.00  ...      0.0        0.0       0.0         0.0        163.0   \n3         4131.68  ...     13.0       11.0      43.0        19.0          9.0   \n4       114716.17  ...     27.0       51.0     268.0       139.0         23.0   \n...           ...  ...      ...        ...       ...         ...          ...   \n169600    8612.32  ...     14.0       27.0      71.0        54.0          1.0   \n169601    1060.92  ...      9.0       10.0      23.0        15.0          5.0   \n169602    2160.00  ...     16.0       16.0      36.0        18.0          3.0   \n169603    2118.30  ...      8.0       12.0      29.0        22.0          3.0   \n169604       0.00  ...      0.0        0.0       0.0         0.0         29.0   \n\n        defects  opnd_per_op  prone_v  no_comments  branch_pctg  \n0           0.0     0.555556        0            1     0.500000  \n1           0.0     0.640625        0            0     0.458333  \n2           1.0     0.000000        1            1   163.000000  \n3           0.0     0.431818        0            0     0.290323  \n4           1.0     0.516729        1            0     0.298701  \n...         ...          ...      ...          ...          ...  \n169600      NaN     0.750000        0            1     0.031250  \n169601      NaN     0.625000        0            1     0.312500  \n169602      NaN     0.486486        0            1     0.157895  \n169603      NaN     0.733333        0            1     0.230769  \n169604      NaN     0.000000        1            1    29.000000  \n\n[169605 rows x 26 columns]",
      "text/html": "<div>\n<style scoped>\n    .dataframe tbody tr th:only-of-type {\n        vertical-align: middle;\n    }\n\n    .dataframe tbody tr th {\n        vertical-align: top;\n    }\n\n    .dataframe thead th {\n        text-align: right;\n    }\n</style>\n<table border=\"1\" class=\"dataframe\">\n  <thead>\n    <tr style=\"text-align: right;\">\n      <th></th>\n      <th>loc</th>\n      <th>v(g)</th>\n      <th>ev(g)</th>\n      <th>iv(g)</th>\n      <th>n</th>\n      <th>v</th>\n      <th>l</th>\n      <th>d</th>\n      <th>i</th>\n      <th>e</th>\n      <th>...</th>\n      <th>uniq_Op</th>\n      <th>uniq_Opnd</th>\n      <th>total_Op</th>\n      <th>total_Opnd</th>\n      <th>branchCount</th>\n      <th>defects</th>\n      <th>opnd_per_op</th>\n      <th>prone_v</th>\n      <th>no_comments</th>\n      <th>branch_pctg</th>\n    </tr>\n  </thead>\n  <tbody>\n    <tr>\n      <th>0</th>\n      <td>17.0</td>\n      <td>4.0</td>\n      <td>3.0</td>\n      <td>2.0</td>\n      <td>27.0</td>\n      <td>110.36</td>\n      <td>0.11</td>\n      <td>9.17</td>\n      <td>12.89</td>\n      <td>990.00</td>\n      <td>...</td>\n      <td>11.0</td>\n      <td>6.0</td>\n      <td>17.0</td>\n      <td>10.0</td>\n      <td>7.0</td>\n      <td>0.0</td>\n      <td>0.555556</td>\n      <td>0</td>\n      <td>1</td>\n      <td>0.500000</td>\n    </tr>\n    <tr>\n      <th>1</th>\n      <td>34.0</td>\n      <td>6.0</td>\n      <td>4.0</td>\n      <td>5.0</td>\n      <td>106.0</td>\n      <td>571.59</td>\n      <td>0.05</td>\n      <td>19.90</td>\n      <td>31.39</td>\n      <td>11627.48</td>\n      <td>...</td>\n      <td>19.0</td>\n      <td>21.0</td>\n      <td>63.0</td>\n      <td>41.0</td>\n      <td>11.0</td>\n      <td>0.0</td>\n      <td>0.640625</td>\n      <td>0</td>\n      <td>0</td>\n      <td>0.458333</td>\n    </tr>\n    <tr>\n      <th>2</th>\n      <td>1129.0</td>\n      <td>82.0</td>\n      <td>1.0</td>\n      <td>82.0</td>\n      <td>0.0</td>\n      <td>0.00</td>\n      <td>0.00</td>\n      <td>0.00</td>\n      <td>0.00</td>\n      <td>0.00</td>\n      <td>...</td>\n      <td>0.0</td>\n      <td>0.0</td>\n      <td>0.0</td>\n      <td>0.0</td>\n      <td>163.0</td>\n      <td>1.0</td>\n      <td>0.000000</td>\n      <td>1</td>\n      <td>1</td>\n      <td>163.000000</td>\n    </tr>\n    <tr>\n      <th>3</th>\n      <td>32.0</td>\n      <td>5.0</td>\n      <td>1.0</td>\n      <td>1.0</td>\n      <td>61.0</td>\n      <td>279.68</td>\n      <td>0.07</td>\n      <td>14.77</td>\n      <td>18.93</td>\n      <td>4131.68</td>\n      <td>...</td>\n      <td>13.0</td>\n      <td>11.0</td>\n      <td>43.0</td>\n      <td>19.0</td>\n      <td>9.0</td>\n      <td>0.0</td>\n      <td>0.431818</td>\n      <td>0</td>\n      <td>0</td>\n      <td>0.290323</td>\n    </tr>\n    <tr>\n      <th>4</th>\n      <td>156.0</td>\n      <td>12.0</td>\n      <td>9.0</td>\n      <td>9.0</td>\n      <td>359.0</td>\n      <td>2508.70</td>\n      <td>0.02</td>\n      <td>43.15</td>\n      <td>61.62</td>\n      <td>114716.17</td>\n      <td>...</td>\n      <td>27.0</td>\n      <td>51.0</td>\n      <td>268.0</td>\n      <td>139.0</td>\n      <td>23.0</td>\n      <td>1.0</td>\n      <td>0.516729</td>\n      <td>1</td>\n      <td>0</td>\n      <td>0.298701</td>\n    </tr>\n    <tr>\n      <th>...</th>\n      <td>...</td>\n      <td>...</td>\n      <td>...</td>\n      <td>...</td>\n      <td>...</td>\n      <td>...</td>\n      <td>...</td>\n      <td>...</td>\n      <td>...</td>\n      <td>...</td>\n      <td>...</td>\n      <td>...</td>\n      <td>...</td>\n      <td>...</td>\n      <td>...</td>\n      <td>...</td>\n      <td>...</td>\n      <td>...</td>\n      <td>...</td>\n      <td>...</td>\n      <td>...</td>\n    </tr>\n    <tr>\n      <th>169600</th>\n      <td>41.0</td>\n      <td>1.0</td>\n      <td>1.0</td>\n      <td>1.0</td>\n      <td>125.0</td>\n      <td>656.55</td>\n      <td>0.07</td>\n      <td>14.00</td>\n      <td>47.61</td>\n      <td>8612.32</td>\n      <td>...</td>\n      <td>14.0</td>\n      <td>27.0</td>\n      <td>71.0</td>\n      <td>54.0</td>\n      <td>1.0</td>\n      <td>NaN</td>\n      <td>0.750000</td>\n      <td>0</td>\n      <td>1</td>\n      <td>0.031250</td>\n    </tr>\n    <tr>\n      <th>169601</th>\n      <td>20.0</td>\n      <td>3.0</td>\n      <td>1.0</td>\n      <td>3.0</td>\n      <td>38.0</td>\n      <td>161.42</td>\n      <td>0.15</td>\n      <td>6.75</td>\n      <td>23.28</td>\n      <td>1060.92</td>\n      <td>...</td>\n      <td>9.0</td>\n      <td>10.0</td>\n      <td>23.0</td>\n      <td>15.0</td>\n      <td>5.0</td>\n      <td>NaN</td>\n      <td>0.625000</td>\n      <td>0</td>\n      <td>1</td>\n      <td>0.312500</td>\n    </tr>\n    <tr>\n      <th>169602</th>\n      <td>24.0</td>\n      <td>2.0</td>\n      <td>1.0</td>\n      <td>2.0</td>\n      <td>52.0</td>\n      <td>240.00</td>\n      <td>0.11</td>\n      <td>9.00</td>\n      <td>26.67</td>\n      <td>2160.00</td>\n      <td>...</td>\n      <td>16.0</td>\n      <td>16.0</td>\n      <td>36.0</td>\n      <td>18.0</td>\n      <td>3.0</td>\n      <td>NaN</td>\n      <td>0.486486</td>\n      <td>0</td>\n      <td>1</td>\n      <td>0.157895</td>\n    </tr>\n    <tr>\n      <th>169603</th>\n      <td>18.0</td>\n      <td>2.0</td>\n      <td>1.0</td>\n      <td>1.0</td>\n      <td>49.0</td>\n      <td>216.64</td>\n      <td>0.11</td>\n      <td>9.33</td>\n      <td>24.02</td>\n      <td>2118.30</td>\n      <td>...</td>\n      <td>8.0</td>\n      <td>12.0</td>\n      <td>29.0</td>\n      <td>22.0</td>\n      <td>3.0</td>\n      <td>NaN</td>\n      <td>0.733333</td>\n      <td>0</td>\n      <td>1</td>\n      <td>0.230769</td>\n    </tr>\n    <tr>\n      <th>169604</th>\n      <td>101.0</td>\n      <td>15.0</td>\n      <td>10.0</td>\n      <td>5.0</td>\n      <td>0.0</td>\n      <td>0.00</td>\n      <td>0.00</td>\n      <td>0.00</td>\n      <td>0.00</td>\n      <td>0.00</td>\n      <td>...</td>\n      <td>0.0</td>\n      <td>0.0</td>\n      <td>0.0</td>\n      <td>0.0</td>\n      <td>29.0</td>\n      <td>NaN</td>\n      <td>0.000000</td>\n      <td>1</td>\n      <td>1</td>\n      <td>29.000000</td>\n    </tr>\n  </tbody>\n</table>\n<p>169605 rows × 26 columns</p>\n</div>"
     },
     "execution_count": 68,
     "metadata": {},
     "output_type": "execute_result"
    }
   ],
   "source": [
    "df"
   ],
   "metadata": {
    "collapsed": false,
    "ExecuteTime": {
     "end_time": "2023-10-04T00:39:53.739354800Z",
     "start_time": "2023-10-04T00:39:53.700234600Z"
    }
   },
   "id": "498a4e6b84e14213"
  },
  {
   "cell_type": "code",
   "execution_count": 69,
   "outputs": [],
   "source": [
    "for column in df.columns.drop(['defects','prone_v','no_comments']):\n",
    "    quantile_98 = df[column].quantile(0.95)\n",
    "    df[column] = df[column].apply(lambda x: quantile_98 if x > quantile_98 else x)"
   ],
   "metadata": {
    "collapsed": false,
    "ExecuteTime": {
     "end_time": "2023-10-04T00:40:12.752680300Z",
     "start_time": "2023-10-04T00:40:11.856133500Z"
    }
   },
   "id": "d33362d7837e304b"
  },
  {
   "cell_type": "code",
   "execution_count": 16,
   "outputs": [],
   "source": [
    "# for column in df.columns:\n",
    "#     plt.figure(figsize=(4, 3))  \n",
    "#     plt.boxplot(df[column])\n",
    "#     plt.title(f'Boxplot de {column}') \n",
    "#     plt.xlabel('Columna')\n",
    "#     plt.ylabel('Valores')\n",
    "#     plt.show()"
   ],
   "metadata": {
    "collapsed": false,
    "ExecuteTime": {
     "end_time": "2023-10-04T00:16:34.846547500Z",
     "start_time": "2023-10-04T00:16:34.841597600Z"
    }
   },
   "id": "47e20a02db47339"
  },
  {
   "cell_type": "code",
   "execution_count": 70,
   "outputs": [
    {
     "data": {
      "text/plain": "             loc      v(g)     ev(g)     iv(g)         n         v         l  \\\n0      -0.555485 -0.214640  0.181792 -0.464250 -0.661834 -0.648859  0.037845   \n1       0.030003  0.247886  0.537442  0.757238  0.300216  0.304587 -0.671344   \n2       2.750797  2.791781 -0.529509  2.793051 -0.990636 -0.876993 -1.262335   \n3      -0.038878  0.016623 -0.529509 -0.871413 -0.247787 -0.298844 -0.434947   \n4       2.750797  1.635465  2.315694  2.385889  2.845386  2.925276 -1.025938   \n...          ...       ...       ...       ...       ...       ...       ...   \n169600  0.271086 -0.908430 -0.529509 -0.871413  0.531595  0.480214 -0.434947   \n169601 -0.452164 -0.445903 -0.529509 -0.057088 -0.527878 -0.543309  0.510638   \n169602 -0.314402 -0.677167 -0.529509 -0.464250 -0.357388 -0.380870  0.037845   \n169603 -0.521045 -0.677167 -0.529509 -0.871413 -0.393921 -0.429159  0.037845   \n169604  2.337512  2.329255  2.671345  0.757238 -0.990636 -0.876993 -1.262335   \n\n               d         i         e  ...   uniq_Op  uniq_Opnd  total_Op  \\\n0      -0.361825 -0.838536 -0.520547  ... -0.120557  -0.773077 -0.646153   \n1       0.701885  0.350525  0.098253  ...  1.228642   0.606387  0.302262   \n2      -1.270886 -1.667023 -0.578137  ... -1.975707  -1.324863 -0.996655   \n3       0.193327 -0.450324 -0.337790  ...  0.216743  -0.313255 -0.110093   \n4       2.479362  2.293516  3.309185  ...  1.903242   2.537637  2.838241   \n...          ...       ...       ...  ...       ...        ...       ...   \n169600  0.116993  1.393043 -0.077144  ...  0.385393   1.158173  0.467203   \n169601 -0.601730 -0.170734 -0.516421  ... -0.457857  -0.405220 -0.522447   \n169602 -0.378678  0.047154 -0.452486  ...  0.722692   0.146566 -0.254417   \n169603 -0.345963 -0.123171 -0.454912  ... -0.626507  -0.221291 -0.398741   \n169604 -1.270886 -1.667023 -0.578137  ... -1.975707  -1.324863 -0.996655   \n\n        total_Opnd  branchCount  defects  opnd_per_op   prone_v  no_comments  \\\n0        -0.676480    -0.207473      0.0    -0.200908 -0.373626     0.631053   \n1         0.234414     0.257925      0.0     0.202072 -0.373626    -1.584654   \n2        -0.970317     2.817615      1.0    -2.832619  2.676473     0.631053   \n3        -0.412027     0.025226      0.0    -0.787062 -0.373626    -1.584654   \n4         2.878945     1.654120      1.0    -0.384835  2.676473    -1.584654   \n...            ...          ...      ...          ...       ...          ...   \n169600    0.616402    -0.905570      NaN     0.720190 -0.373626     0.631053   \n169601   -0.529562    -0.440172      NaN     0.128055 -0.373626     0.631053   \n169602   -0.441411    -0.672871      NaN    -0.528094 -0.373626     0.631053   \n169603   -0.323876    -0.672871      NaN     0.641239 -0.373626     0.631053   \n169604   -0.970317     2.352217      NaN    -2.832619  2.676473     0.631053   \n\n        branch_pctg  \n0         -0.239781  \n1         -0.251428  \n2          3.813570  \n3         -0.298394  \n4         -0.296052  \n...             ...  \n169600    -0.370816  \n169601    -0.292195  \n169602    -0.335413  \n169603    -0.315042  \n169604     3.813570  \n\n[169605 rows x 26 columns]",
      "text/html": "<div>\n<style scoped>\n    .dataframe tbody tr th:only-of-type {\n        vertical-align: middle;\n    }\n\n    .dataframe tbody tr th {\n        vertical-align: top;\n    }\n\n    .dataframe thead th {\n        text-align: right;\n    }\n</style>\n<table border=\"1\" class=\"dataframe\">\n  <thead>\n    <tr style=\"text-align: right;\">\n      <th></th>\n      <th>loc</th>\n      <th>v(g)</th>\n      <th>ev(g)</th>\n      <th>iv(g)</th>\n      <th>n</th>\n      <th>v</th>\n      <th>l</th>\n      <th>d</th>\n      <th>i</th>\n      <th>e</th>\n      <th>...</th>\n      <th>uniq_Op</th>\n      <th>uniq_Opnd</th>\n      <th>total_Op</th>\n      <th>total_Opnd</th>\n      <th>branchCount</th>\n      <th>defects</th>\n      <th>opnd_per_op</th>\n      <th>prone_v</th>\n      <th>no_comments</th>\n      <th>branch_pctg</th>\n    </tr>\n  </thead>\n  <tbody>\n    <tr>\n      <th>0</th>\n      <td>-0.555485</td>\n      <td>-0.214640</td>\n      <td>0.181792</td>\n      <td>-0.464250</td>\n      <td>-0.661834</td>\n      <td>-0.648859</td>\n      <td>0.037845</td>\n      <td>-0.361825</td>\n      <td>-0.838536</td>\n      <td>-0.520547</td>\n      <td>...</td>\n      <td>-0.120557</td>\n      <td>-0.773077</td>\n      <td>-0.646153</td>\n      <td>-0.676480</td>\n      <td>-0.207473</td>\n      <td>0.0</td>\n      <td>-0.200908</td>\n      <td>-0.373626</td>\n      <td>0.631053</td>\n      <td>-0.239781</td>\n    </tr>\n    <tr>\n      <th>1</th>\n      <td>0.030003</td>\n      <td>0.247886</td>\n      <td>0.537442</td>\n      <td>0.757238</td>\n      <td>0.300216</td>\n      <td>0.304587</td>\n      <td>-0.671344</td>\n      <td>0.701885</td>\n      <td>0.350525</td>\n      <td>0.098253</td>\n      <td>...</td>\n      <td>1.228642</td>\n      <td>0.606387</td>\n      <td>0.302262</td>\n      <td>0.234414</td>\n      <td>0.257925</td>\n      <td>0.0</td>\n      <td>0.202072</td>\n      <td>-0.373626</td>\n      <td>-1.584654</td>\n      <td>-0.251428</td>\n    </tr>\n    <tr>\n      <th>2</th>\n      <td>2.750797</td>\n      <td>2.791781</td>\n      <td>-0.529509</td>\n      <td>2.793051</td>\n      <td>-0.990636</td>\n      <td>-0.876993</td>\n      <td>-1.262335</td>\n      <td>-1.270886</td>\n      <td>-1.667023</td>\n      <td>-0.578137</td>\n      <td>...</td>\n      <td>-1.975707</td>\n      <td>-1.324863</td>\n      <td>-0.996655</td>\n      <td>-0.970317</td>\n      <td>2.817615</td>\n      <td>1.0</td>\n      <td>-2.832619</td>\n      <td>2.676473</td>\n      <td>0.631053</td>\n      <td>3.813570</td>\n    </tr>\n    <tr>\n      <th>3</th>\n      <td>-0.038878</td>\n      <td>0.016623</td>\n      <td>-0.529509</td>\n      <td>-0.871413</td>\n      <td>-0.247787</td>\n      <td>-0.298844</td>\n      <td>-0.434947</td>\n      <td>0.193327</td>\n      <td>-0.450324</td>\n      <td>-0.337790</td>\n      <td>...</td>\n      <td>0.216743</td>\n      <td>-0.313255</td>\n      <td>-0.110093</td>\n      <td>-0.412027</td>\n      <td>0.025226</td>\n      <td>0.0</td>\n      <td>-0.787062</td>\n      <td>-0.373626</td>\n      <td>-1.584654</td>\n      <td>-0.298394</td>\n    </tr>\n    <tr>\n      <th>4</th>\n      <td>2.750797</td>\n      <td>1.635465</td>\n      <td>2.315694</td>\n      <td>2.385889</td>\n      <td>2.845386</td>\n      <td>2.925276</td>\n      <td>-1.025938</td>\n      <td>2.479362</td>\n      <td>2.293516</td>\n      <td>3.309185</td>\n      <td>...</td>\n      <td>1.903242</td>\n      <td>2.537637</td>\n      <td>2.838241</td>\n      <td>2.878945</td>\n      <td>1.654120</td>\n      <td>1.0</td>\n      <td>-0.384835</td>\n      <td>2.676473</td>\n      <td>-1.584654</td>\n      <td>-0.296052</td>\n    </tr>\n    <tr>\n      <th>...</th>\n      <td>...</td>\n      <td>...</td>\n      <td>...</td>\n      <td>...</td>\n      <td>...</td>\n      <td>...</td>\n      <td>...</td>\n      <td>...</td>\n      <td>...</td>\n      <td>...</td>\n      <td>...</td>\n      <td>...</td>\n      <td>...</td>\n      <td>...</td>\n      <td>...</td>\n      <td>...</td>\n      <td>...</td>\n      <td>...</td>\n      <td>...</td>\n      <td>...</td>\n      <td>...</td>\n    </tr>\n    <tr>\n      <th>169600</th>\n      <td>0.271086</td>\n      <td>-0.908430</td>\n      <td>-0.529509</td>\n      <td>-0.871413</td>\n      <td>0.531595</td>\n      <td>0.480214</td>\n      <td>-0.434947</td>\n      <td>0.116993</td>\n      <td>1.393043</td>\n      <td>-0.077144</td>\n      <td>...</td>\n      <td>0.385393</td>\n      <td>1.158173</td>\n      <td>0.467203</td>\n      <td>0.616402</td>\n      <td>-0.905570</td>\n      <td>NaN</td>\n      <td>0.720190</td>\n      <td>-0.373626</td>\n      <td>0.631053</td>\n      <td>-0.370816</td>\n    </tr>\n    <tr>\n      <th>169601</th>\n      <td>-0.452164</td>\n      <td>-0.445903</td>\n      <td>-0.529509</td>\n      <td>-0.057088</td>\n      <td>-0.527878</td>\n      <td>-0.543309</td>\n      <td>0.510638</td>\n      <td>-0.601730</td>\n      <td>-0.170734</td>\n      <td>-0.516421</td>\n      <td>...</td>\n      <td>-0.457857</td>\n      <td>-0.405220</td>\n      <td>-0.522447</td>\n      <td>-0.529562</td>\n      <td>-0.440172</td>\n      <td>NaN</td>\n      <td>0.128055</td>\n      <td>-0.373626</td>\n      <td>0.631053</td>\n      <td>-0.292195</td>\n    </tr>\n    <tr>\n      <th>169602</th>\n      <td>-0.314402</td>\n      <td>-0.677167</td>\n      <td>-0.529509</td>\n      <td>-0.464250</td>\n      <td>-0.357388</td>\n      <td>-0.380870</td>\n      <td>0.037845</td>\n      <td>-0.378678</td>\n      <td>0.047154</td>\n      <td>-0.452486</td>\n      <td>...</td>\n      <td>0.722692</td>\n      <td>0.146566</td>\n      <td>-0.254417</td>\n      <td>-0.441411</td>\n      <td>-0.672871</td>\n      <td>NaN</td>\n      <td>-0.528094</td>\n      <td>-0.373626</td>\n      <td>0.631053</td>\n      <td>-0.335413</td>\n    </tr>\n    <tr>\n      <th>169603</th>\n      <td>-0.521045</td>\n      <td>-0.677167</td>\n      <td>-0.529509</td>\n      <td>-0.871413</td>\n      <td>-0.393921</td>\n      <td>-0.429159</td>\n      <td>0.037845</td>\n      <td>-0.345963</td>\n      <td>-0.123171</td>\n      <td>-0.454912</td>\n      <td>...</td>\n      <td>-0.626507</td>\n      <td>-0.221291</td>\n      <td>-0.398741</td>\n      <td>-0.323876</td>\n      <td>-0.672871</td>\n      <td>NaN</td>\n      <td>0.641239</td>\n      <td>-0.373626</td>\n      <td>0.631053</td>\n      <td>-0.315042</td>\n    </tr>\n    <tr>\n      <th>169604</th>\n      <td>2.337512</td>\n      <td>2.329255</td>\n      <td>2.671345</td>\n      <td>0.757238</td>\n      <td>-0.990636</td>\n      <td>-0.876993</td>\n      <td>-1.262335</td>\n      <td>-1.270886</td>\n      <td>-1.667023</td>\n      <td>-0.578137</td>\n      <td>...</td>\n      <td>-1.975707</td>\n      <td>-1.324863</td>\n      <td>-0.996655</td>\n      <td>-0.970317</td>\n      <td>2.352217</td>\n      <td>NaN</td>\n      <td>-2.832619</td>\n      <td>2.676473</td>\n      <td>0.631053</td>\n      <td>3.813570</td>\n    </tr>\n  </tbody>\n</table>\n<p>169605 rows × 26 columns</p>\n</div>"
     },
     "execution_count": 70,
     "metadata": {},
     "output_type": "execute_result"
    }
   ],
   "source": [
    "# from sklearn.preprocessing import StandardScaler\n",
    "# \n",
    "# scaler = StandardScaler() \n",
    "# df[df.columns.drop('defects')]=scaler.fit_transform(df.drop(columns='defects'))\n",
    "# df"
   ],
   "metadata": {
    "collapsed": false,
    "ExecuteTime": {
     "end_time": "2023-10-04T00:40:15.746825200Z",
     "start_time": "2023-10-04T00:40:15.634307900Z"
    }
   },
   "id": "7696669fb2ffc888"
  },
  {
   "cell_type": "code",
   "execution_count": 17,
   "outputs": [],
   "source": [
    "from sklearn.preprocessing import MinMaxScaler\n",
    "\n",
    "scaler = MinMaxScaler((-1,1)) \n",
    "df[df.columns.drop('defects')]=scaler.fit_transform(df.drop(columns='defects'))\n",
    "df"
   ],
   "metadata": {
    "collapsed": false,
    "ExecuteTime": {
     "end_time": "2023-10-04T00:16:34.983611800Z",
     "start_time": "2023-10-04T00:16:34.981600Z"
    }
   },
   "id": "f2a048cc66241f47"
  }
 ],
 "metadata": {
  "kernelspec": {
   "display_name": "Python 3",
   "language": "python",
   "name": "python3"
  },
  "language_info": {
   "codemirror_mode": {
    "name": "ipython",
    "version": 2
   },
   "file_extension": ".py",
   "mimetype": "text/x-python",
   "name": "python",
   "nbconvert_exporter": "python",
   "pygments_lexer": "ipython2",
   "version": "2.7.6"
  }
 },
 "nbformat": 4,
 "nbformat_minor": 5
}
