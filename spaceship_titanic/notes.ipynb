{
 "cells": [
  {
   "cell_type": "code",
   "execution_count": null,
   "id": "initial_id",
   "metadata": {
    "collapsed": true
   },
   "outputs": [],
   "source": [
    "#Temporary convert for operation of Mutual Information\n",
    "for col_name in X.select_dtypes([\"object\"]):\n",
    "    X[col_name], _ = X[col_name].factorize()"
   ]
  },
  {
   "cell_type": "code",
   "execution_count": null,
   "outputs": [],
   "source": [
    "print(train_data.groupby(\"HomePlanet\")[\"Transported\"].value_counts(normalize=True))\n",
    "sns.barplot(x = \"HomePlanet\", y= \"Transported\", data = df);"
   ],
   "metadata": {
    "collapsed": false
   },
   "id": "870a7f8caa91d2b1"
  },
  {
   "cell_type": "code",
   "execution_count": null,
   "outputs": [],
   "source": [
    "#analyse three columns\n",
    "sns.barplot(x = \"HomePlanet\", y= \"Transported\", data = train_data, hue = \"Destination\")"
   ],
   "metadata": {
    "collapsed": false
   },
   "id": "bd67af5ea2dd37eb"
  },
  {
   "cell_type": "code",
   "execution_count": null,
   "outputs": [],
   "source": [
    "train_data.groupby(\"CryoSleep\")[[\"Spa\", \"VRDeck\", \"ShoppingMall\", \"RoomService\", \"FoodCourt\"]].aggregate([\"min\", \"max\"])"
   ],
   "metadata": {
    "collapsed": false
   },
   "id": "bbb897928b9c6851"
  },
  {
   "cell_type": "code",
   "execution_count": null,
   "outputs": [],
   "source": [
    "train_data.groupby(\"CryoSleep\")[[\"HomePlanet\", \"Destination\"]].value_counts().plot.barh();"
   ],
   "metadata": {
    "collapsed": false
   },
   "id": "26dc7dbc8f26dba"
  },
  {
   "cell_type": "code",
   "execution_count": null,
   "outputs": [],
   "source": [],
   "metadata": {
    "collapsed": false
   },
   "id": "bac4a04be478741c"
  },
  {
   "cell_type": "code",
   "execution_count": null,
   "outputs": [],
   "source": [
    "dataset_df[[\"Deck\", \"Cabin_num\", \"Side\"]] = dataset_df[\"Cabin\"].str.split(\"/\", expand=True)"
   ],
   "metadata": {
    "collapsed": false
   },
   "id": "1fbed5a536752f64"
  },
  {
   "cell_type": "code",
   "execution_count": null,
   "outputs": [],
   "source": [
    " # Passengers with missing HomePlanet and in a group with known HomePlanet\n",
    "    GHP_index=dataset[dataset['HomePlanet'].isna()][(dataset[dataset['HomePlanet'].isna()]['Group']).isin(GHP_gb.index)].index\n",
    "    # Fill corresponding missing values\n",
    "    dataset.loc[GHP_index,'HomePlanet']=dataset.iloc[GHP_index,:]['Group'].map(lambda x: GHP_gb.idxmax(axis=1)[x])"
   ],
   "metadata": {
    "collapsed": false
   },
   "id": "a10669ce9936d57a"
  },
  {
   "cell_type": "code",
   "execution_count": null,
   "outputs": [],
   "source": [],
   "metadata": {
    "collapsed": false
   },
   "id": "2419c07033ddf930"
  },
  {
   "cell_type": "code",
   "execution_count": null,
   "outputs": [],
   "source": [],
   "metadata": {
    "collapsed": false
   },
   "id": "5f96c26411ab3366"
  },
  {
   "cell_type": "code",
   "execution_count": null,
   "outputs": [],
   "source": [],
   "metadata": {
    "collapsed": false
   },
   "id": "9e61bdbc1bd626"
  },
  {
   "cell_type": "code",
   "execution_count": null,
   "outputs": [],
   "source": [],
   "metadata": {
    "collapsed": false
   },
   "id": "1f9260c941ce35f7"
  },
  {
   "cell_type": "code",
   "execution_count": null,
   "outputs": [],
   "source": [],
   "metadata": {
    "collapsed": false
   },
   "id": "2fdac66188ebe641"
  }
 ],
 "metadata": {
  "kernelspec": {
   "display_name": "Python 3",
   "language": "python",
   "name": "python3"
  },
  "language_info": {
   "codemirror_mode": {
    "name": "ipython",
    "version": 2
   },
   "file_extension": ".py",
   "mimetype": "text/x-python",
   "name": "python",
   "nbconvert_exporter": "python",
   "pygments_lexer": "ipython2",
   "version": "2.7.6"
  }
 },
 "nbformat": 4,
 "nbformat_minor": 5
}
