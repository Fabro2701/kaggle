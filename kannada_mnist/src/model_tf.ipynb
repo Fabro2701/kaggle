{
 "cells": [
  {
   "cell_type": "code",
   "execution_count": 71,
   "id": "initial_id",
   "metadata": {
    "collapsed": true,
    "ExecuteTime": {
     "end_time": "2023-11-07T20:57:11.564790200Z",
     "start_time": "2023-11-07T20:57:11.519351400Z"
    }
   },
   "outputs": [],
   "source": [
    "import tensorflow as tf\n",
    "from matplotlib import pyplot as plt\n",
    "import pandas as pd\n",
    "import numpy as np"
   ]
  },
  {
   "cell_type": "code",
   "execution_count": 72,
   "outputs": [
    {
     "name": "stdout",
     "output_type": "stream",
     "text": [
      "[PhysicalDevice(name='/physical_device:GPU:0', device_type='GPU')]\n"
     ]
    }
   ],
   "source": [
    "print(tf.config.list_physical_devices('GPU'))"
   ],
   "metadata": {
    "collapsed": false,
    "ExecuteTime": {
     "end_time": "2023-11-07T20:57:11.618132800Z",
     "start_time": "2023-11-07T20:57:11.527361600Z"
    }
   },
   "id": "da741137cbe7ad50"
  },
  {
   "cell_type": "code",
   "execution_count": 73,
   "outputs": [],
   "source": [
    "%run prepro.ipynb"
   ],
   "metadata": {
    "collapsed": false,
    "ExecuteTime": {
     "end_time": "2023-11-07T20:57:37.329485700Z",
     "start_time": "2023-11-07T20:57:11.543382700Z"
    }
   },
   "id": "b7da99d358ba4e5a"
  },
  {
   "cell_type": "code",
   "execution_count": 90,
   "outputs": [],
   "source": [
    "\n",
    "tf.keras.backend.clear_session()\n",
    "model = tf.keras.Sequential(\n",
    "    [\n",
    "        tf.keras.layers.GaussianNoise(0.1, input_shape=(28, 28, 1)),\n",
    "        tf.keras.layers.Conv2D(32, (3,3), activation='relu'),\n",
    "        tf.keras.layers.MaxPooling2D((2, 2), strides=2),\n",
    "        tf.keras.layers.SpatialDropout2D(0.4),\n",
    "        tf.keras.layers.Conv2D(48, (3,3), activation='relu'),\n",
    "        tf.keras.layers.MaxPooling2D((2, 2), strides=2),\n",
    "        tf.keras.layers.SpatialDropout2D(0.4),\n",
    "        tf.keras.layers.Flatten(),\n",
    "        tf.keras.layers.Dense(256, activation=\"relu\"),\n",
    "        tf.keras.layers.Dense(10, activation=\"softmax\")\n",
    "    ]\n",
    ")\n",
    "\n",
    "model.compile(loss='categorical_crossentropy', optimizer='adam', metrics=['accuracy'])"
   ],
   "metadata": {
    "collapsed": false,
    "ExecuteTime": {
     "end_time": "2023-11-07T20:59:59.548365300Z",
     "start_time": "2023-11-07T20:59:59.453253100Z"
    }
   },
   "id": "cba179803277741a"
  },
  {
   "cell_type": "code",
   "execution_count": 75,
   "outputs": [
    {
     "name": "stdout",
     "output_type": "stream",
     "text": [
      "Model: \"sequential\"\n",
      "_________________________________________________________________\n",
      " Layer (type)                Output Shape              Param #   \n",
      "=================================================================\n",
      " gaussian_noise (GaussianNoi  (None, 28, 28, 1)        0         \n",
      " se)                                                             \n",
      "                                                                 \n",
      " conv2d (Conv2D)             (None, 26, 26, 32)        320       \n",
      "                                                                 \n",
      " max_pooling2d (MaxPooling2D  (None, 13, 13, 32)       0         \n",
      " )                                                               \n",
      "                                                                 \n",
      " spatial_dropout2d (SpatialD  (None, 13, 13, 32)       0         \n",
      " ropout2D)                                                       \n",
      "                                                                 \n",
      " conv2d_1 (Conv2D)           (None, 11, 11, 48)        13872     \n",
      "                                                                 \n",
      " max_pooling2d_1 (MaxPooling  (None, 5, 5, 48)         0         \n",
      " 2D)                                                             \n",
      "                                                                 \n",
      " spatial_dropout2d_1 (Spatia  (None, 5, 5, 48)         0         \n",
      " lDropout2D)                                                     \n",
      "                                                                 \n",
      " flatten (Flatten)           (None, 1200)              0         \n",
      "                                                                 \n",
      " dense (Dense)               (None, 256)               307456    \n",
      "                                                                 \n",
      " dense_1 (Dense)             (None, 10)                2570      \n",
      "                                                                 \n",
      "=================================================================\n",
      "Total params: 324,218\n",
      "Trainable params: 324,218\n",
      "Non-trainable params: 0\n",
      "_________________________________________________________________\n"
     ]
    }
   ],
   "source": [
    "model.summary()"
   ],
   "metadata": {
    "collapsed": false,
    "ExecuteTime": {
     "end_time": "2023-11-07T20:57:37.484428900Z",
     "start_time": "2023-11-07T20:57:37.426386300Z"
    }
   },
   "id": "4f1184d5adbed1b8"
  },
  {
   "cell_type": "code",
   "execution_count": 76,
   "outputs": [],
   "source": [
    "#tf.keras.utils.plot_model(model, show_shapes=True)"
   ],
   "metadata": {
    "collapsed": false,
    "ExecuteTime": {
     "end_time": "2023-11-07T20:57:37.493444900Z",
     "start_time": "2023-11-07T20:57:37.457425700Z"
    }
   },
   "id": "10c4773dcf6c1d34"
  },
  {
   "cell_type": "code",
   "execution_count": 91,
   "outputs": [
    {
     "name": "stdout",
     "output_type": "stream",
     "text": [
      "Epoch 1/20\n",
      "90/90 [==============================] - 2s 19ms/step - loss: 1.0334 - accuracy: 0.6886 - val_loss: 0.8501 - val_accuracy: 0.7333\n",
      "Epoch 2/20\n",
      "90/90 [==============================] - 2s 17ms/step - loss: 0.4211 - accuracy: 0.8775 - val_loss: 0.4428 - val_accuracy: 0.8735\n",
      "Epoch 3/20\n",
      "90/90 [==============================] - 2s 17ms/step - loss: 0.2929 - accuracy: 0.9154 - val_loss: 0.3265 - val_accuracy: 0.9093\n",
      "Epoch 4/20\n",
      "90/90 [==============================] - 2s 17ms/step - loss: 0.2371 - accuracy: 0.9322 - val_loss: 0.2731 - val_accuracy: 0.9228\n",
      "Epoch 5/20\n",
      "90/90 [==============================] - 2s 17ms/step - loss: 0.1979 - accuracy: 0.9431 - val_loss: 0.2359 - val_accuracy: 0.9318\n",
      "Epoch 6/20\n",
      "90/90 [==============================] - 2s 17ms/step - loss: 0.1776 - accuracy: 0.9492 - val_loss: 0.2133 - val_accuracy: 0.9407\n",
      "Epoch 7/20\n",
      "90/90 [==============================] - 2s 17ms/step - loss: 0.1581 - accuracy: 0.9547 - val_loss: 0.1964 - val_accuracy: 0.9448\n",
      "Epoch 8/20\n",
      "90/90 [==============================] - 2s 17ms/step - loss: 0.1423 - accuracy: 0.9585 - val_loss: 0.1816 - val_accuracy: 0.9490\n",
      "Epoch 9/20\n",
      "90/90 [==============================] - 2s 17ms/step - loss: 0.1314 - accuracy: 0.9616 - val_loss: 0.1704 - val_accuracy: 0.9516\n",
      "Epoch 10/20\n",
      "90/90 [==============================] - 2s 17ms/step - loss: 0.1232 - accuracy: 0.9637 - val_loss: 0.1643 - val_accuracy: 0.9536\n",
      "Epoch 11/20\n",
      "90/90 [==============================] - 2s 17ms/step - loss: 0.1119 - accuracy: 0.9673 - val_loss: 0.1592 - val_accuracy: 0.9529\n",
      "Epoch 12/20\n",
      "90/90 [==============================] - 2s 17ms/step - loss: 0.1023 - accuracy: 0.9697 - val_loss: 0.1503 - val_accuracy: 0.9556\n",
      "Epoch 13/20\n",
      "90/90 [==============================] - 2s 17ms/step - loss: 0.0972 - accuracy: 0.9708 - val_loss: 0.1457 - val_accuracy: 0.9593\n",
      "Epoch 14/20\n",
      "90/90 [==============================] - 2s 17ms/step - loss: 0.0919 - accuracy: 0.9719 - val_loss: 0.1436 - val_accuracy: 0.9600\n",
      "Epoch 15/20\n",
      "90/90 [==============================] - 2s 17ms/step - loss: 0.0852 - accuracy: 0.9739 - val_loss: 0.1438 - val_accuracy: 0.9584\n",
      "Epoch 16/20\n",
      "90/90 [==============================] - 2s 17ms/step - loss: 0.0792 - accuracy: 0.9757 - val_loss: 0.1421 - val_accuracy: 0.9604\n",
      "Epoch 17/20\n",
      "90/90 [==============================] - 2s 17ms/step - loss: 0.0773 - accuracy: 0.9761 - val_loss: 0.1397 - val_accuracy: 0.9608\n",
      "Epoch 18/20\n",
      "90/90 [==============================] - 2s 17ms/step - loss: 0.0718 - accuracy: 0.9778 - val_loss: 0.1362 - val_accuracy: 0.9622\n",
      "Epoch 19/20\n",
      "90/90 [==============================] - 2s 17ms/step - loss: 0.0707 - accuracy: 0.9779 - val_loss: 0.1355 - val_accuracy: 0.9620\n",
      "Epoch 20/20\n",
      "90/90 [==============================] - 2s 17ms/step - loss: 0.0646 - accuracy: 0.9796 - val_loss: 0.1354 - val_accuracy: 0.9623\n"
     ]
    }
   ],
   "source": [
    "history = model.fit(x_train,y_train,batch_size=1000,epochs=20,validation_split=0.2)"
   ],
   "metadata": {
    "collapsed": false,
    "ExecuteTime": {
     "end_time": "2023-11-07T21:00:32.334312300Z",
     "start_time": "2023-11-07T21:00:00.980264Z"
    }
   },
   "id": "8986523f268b2c67"
  },
  {
   "cell_type": "code",
   "execution_count": 89,
   "outputs": [
    {
     "data": {
      "text/plain": "<matplotlib.legend.Legend at 0x135453d1c00>"
     },
     "execution_count": 89,
     "metadata": {},
     "output_type": "execute_result"
    },
    {
     "data": {
      "text/plain": "<Figure size 1200x400 with 1 Axes>",
      "image/png": "[encoded data removed]"
     },
     "metadata": {},
     "output_type": "display_data"
    }
   ],
   "source": [
    "plt.figure(figsize=(12, 4))\n",
    "plt.subplot(1, 2, 1)\n",
    "plt.plot(history.history['accuracy'], label='Training Accuracy')\n",
    "plt.plot(history.history['val_accuracy'], label='Validation Accuracy')\n",
    "plt.xlabel('Epoch')\n",
    "plt.ylabel('Accuracy')\n",
    "plt.legend()"
   ],
   "metadata": {
    "collapsed": false,
    "ExecuteTime": {
     "end_time": "2023-11-07T20:59:48.783547300Z",
     "start_time": "2023-11-07T20:59:48.604422700Z"
    }
   },
   "id": "b1809b8db5d3c697"
  },
  {
   "cell_type": "code",
   "execution_count": 79,
   "outputs": [
    {
     "name": "stdout",
     "output_type": "stream",
     "text": [
      "439/439 [==============================] - 1s 2ms/step - loss: 0.0493 - accuracy: 0.9881\n"
     ]
    },
    {
     "data": {
      "text/plain": "[0.04925597086548805, 0.988112211227417]"
     },
     "execution_count": 79,
     "metadata": {},
     "output_type": "execute_result"
    }
   ],
   "source": [
    "model.evaluate(x_test,y_test)"
   ],
   "metadata": {
    "collapsed": false,
    "ExecuteTime": {
     "end_time": "2023-11-07T20:58:27.528616500Z",
     "start_time": "2023-11-07T20:58:26.439290900Z"
    }
   },
   "id": "508c1c745c96e06e"
  },
  {
   "cell_type": "code",
   "execution_count": 80,
   "outputs": [],
   "source": [
    "model.save('./model.keras')"
   ],
   "metadata": {
    "collapsed": false,
    "ExecuteTime": {
     "end_time": "2023-11-07T20:58:27.562366300Z",
     "start_time": "2023-11-07T20:58:27.517082600Z"
    }
   },
   "id": "2e246e6e39d731c"
  },
  {
   "cell_type": "code",
   "execution_count": 81,
   "outputs": [],
   "source": [
    "#model2 = tf.keras.models.load_model('./model.keras')\n",
    "#model2.evaluate(x_test,y_test)"
   ],
   "metadata": {
    "collapsed": false,
    "ExecuteTime": {
     "end_time": "2023-11-07T20:58:27.576441800Z",
     "start_time": "2023-11-07T20:58:27.562366300Z"
    }
   },
   "id": "a3a82660ab7721f2"
  },
  {
   "cell_type": "code",
   "execution_count": 82,
   "outputs": [
    {
     "data": {
      "text/plain": "array([[3],\n       [4],\n       [6],\n       ...,\n       [2],\n       [3],\n       [7]], dtype=int64)"
     },
     "execution_count": 82,
     "metadata": {},
     "output_type": "execute_result"
    }
   ],
   "source": [
    "encoder.inverse_transform(y_test)"
   ],
   "metadata": {
    "collapsed": false,
    "ExecuteTime": {
     "end_time": "2023-11-07T20:58:27.606420100Z",
     "start_time": "2023-11-07T20:58:27.578855200Z"
    }
   },
   "id": "47a2474b9e8e9c9d"
  },
  {
   "cell_type": "code",
   "execution_count": 83,
   "outputs": [
    {
     "name": "stdout",
     "output_type": "stream",
     "text": [
      "439/439 [==============================] - 1s 1ms/step\n"
     ]
    }
   ],
   "source": [
    "prediction = encoder.inverse_transform(model.predict(x_test))\n"
   ],
   "metadata": {
    "collapsed": false,
    "ExecuteTime": {
     "end_time": "2023-11-07T20:58:28.466380300Z",
     "start_time": "2023-11-07T20:58:27.594394700Z"
    }
   },
   "id": "15b9b1cc048740c6"
  },
  {
   "cell_type": "code",
   "execution_count": 84,
   "outputs": [],
   "source": [
    "indices = np.where((prediction==encoder.inverse_transform(y_test))==False)[0]"
   ],
   "metadata": {
    "collapsed": false,
    "ExecuteTime": {
     "end_time": "2023-11-07T20:58:28.481864Z",
     "start_time": "2023-11-07T20:58:28.470950600Z"
    }
   },
   "id": "37c32bc20ebd9d42"
  },
  {
   "cell_type": "code",
   "execution_count": null,
   "outputs": [],
   "source": [
    "test_data.columns"
   ],
   "metadata": {
    "collapsed": false,
    "ExecuteTime": {
     "start_time": "2023-11-07T20:58:43.579426300Z"
    }
   },
   "id": "9e4f522c04ad7f69"
  },
  {
   "cell_type": "code",
   "execution_count": null,
   "outputs": [],
   "source": [
    "sub_prediction = model.predict(test_data.drop(columns=['id']).to_numpy().reshape(-1, 28, 28, 1)/255.0)\n",
    "sub_prediction = encoder.inverse_transform(sub_prediction)\n",
    "sub_prediction"
   ],
   "metadata": {
    "collapsed": false,
    "ExecuteTime": {
     "start_time": "2023-11-07T20:58:43.581429400Z"
    }
   },
   "id": "f7d08f6827414b9f"
  },
  {
   "cell_type": "code",
   "execution_count": null,
   "outputs": [],
   "source": [
    "sub = pd.DataFrame.from_dict({'id':test_data.id, 'label':sub_prediction.ravel()})"
   ],
   "metadata": {
    "collapsed": false,
    "ExecuteTime": {
     "start_time": "2023-11-07T20:58:43.582424600Z"
    }
   },
   "id": "3b7d043c43a545ac"
  },
  {
   "cell_type": "code",
   "execution_count": null,
   "outputs": [],
   "source": [
    "sub.to_csv(\"../resources/test_submission.csv\",columns=[\"id\",\"label\"],index=False)"
   ],
   "metadata": {
    "collapsed": false,
    "ExecuteTime": {
     "end_time": "2023-11-07T20:58:43.594117Z",
     "start_time": "2023-11-07T20:58:43.584428400Z"
    }
   },
   "id": "b01a2aa7f62697cb"
  },
  {
   "cell_type": "code",
   "execution_count": null,
   "outputs": [],
   "source": [],
   "metadata": {
    "collapsed": false,
    "ExecuteTime": {
     "start_time": "2023-11-07T20:58:43.585426300Z"
    }
   },
   "id": "6b94e624e3caaaf4"
  }
 ],
 "metadata": {
  "kernelspec": {
   "display_name": "Python 3",
   "language": "python",
   "name": "python3"
  },
  "language_info": {
   "codemirror_mode": {
    "name": "ipython",
    "version": 2
   },
   "file_extension": ".py",
   "mimetype": "text/x-python",
   "name": "python",
   "nbconvert_exporter": "python",
   "pygments_lexer": "ipython2",
   "version": "2.7.6"
  }
 },
 "nbformat": 4,
 "nbformat_minor": 5
}
