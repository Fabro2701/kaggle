{
 "cells": [
  {
   "cell_type": "code",
   "execution_count": 1,
   "outputs": [],
   "source": [
    "import numpy as np\n",
    "import pandas as pd\n",
    "import matplotlib.pyplot as plt\n",
    "import sys\n",
    "import random\n",
    "import seaborn as sns\n",
    "import math\n",
    "from sklearn.impute import KNNImputer\n",
    "from sklearn.utils import shuffle"
   ],
   "metadata": {
    "collapsed": false,
    "ExecuteTime": {
     "end_time": "2023-09-30T15:03:33.823435300Z",
     "start_time": "2023-09-30T15:03:33.585855700Z"
    }
   },
   "id": "242861ab23da2a27"
  },
  {
   "cell_type": "code",
   "execution_count": 2,
   "id": "initial_id",
   "metadata": {
    "collapsed": true,
    "ExecuteTime": {
     "end_time": "2023-09-30T15:03:34.761827200Z",
     "start_time": "2023-09-30T15:03:34.721464800Z"
    }
   },
   "outputs": [
    {
     "data": {
      "text/plain": "        id surgery    age  hospital_number  rectal_temp  pulse  \\\n0     1018      no  adult           529424         37.8   56.0   \n1       88      no  adult          5289419         38.4   52.0   \n2      892     yes  young          5290409         37.2  150.0   \n3      408     yes  adult           535292         37.5  120.0   \n4      175      no  adult           530242         37.2   60.0   \n...    ...     ...    ...              ...          ...    ...   \n2054  2054      no  adult           529461         40.3  114.0   \n2055  2055     yes  adult           535338         37.2  100.0   \n2056  2056     yes  adult           529640         39.2  132.0   \n2057  2057      no  adult          5287179         38.3   54.0   \n2058  2058     yes  adult           528461         38.1   66.0   \n\n      respiratory_rate temp_of_extremities peripheral_pulse mucous_membrane  \\\n0                 28.0              normal           normal     normal_pink   \n1                 20.0                cool           normal   pale_cyanotic   \n2                 80.0                cool          reduced   dark_cyanotic   \n3                 36.0                cold          reduced   dark_cyanotic   \n4                 12.0                cool           absent   pale_cyanotic   \n...                ...                 ...              ...             ...   \n2054              36.0                cool          reduced     normal_pink   \n2055              20.0                cool          reduced   pale_cyanotic   \n2056              12.0                cool          reduced   dark_cyanotic   \n2057              66.0              normal           normal     normal_pink   \n2058              12.0                cold           normal     normal_pink   \n\n      ... packed_cell_volume total_protein abdomo_appearance abdomo_protein  \\\n0     ...               46.0           5.9            cloudy            7.0   \n1     ...               48.0           7.7     serosanguious            4.3   \n2     ...               66.0           7.5     serosanguious            5.3   \n3     ...               69.0          82.0             clear            2.0   \n4     ...               52.0           7.5            cloudy            4.1   \n...   ...                ...           ...               ...            ...   \n2054  ...               57.0           8.1     serosanguious            4.5   \n2055  ...               50.0          66.0     serosanguious            2.0   \n2056  ...               53.0           7.6     serosanguious            4.5   \n2057  ...               49.0           8.6             clear            5.0   \n2058  ...               31.5           6.2               NaN            1.6   \n\n     surgical_lesion lesion_1  lesion_2 lesion_3 cp_data     outcome  \n0                 no        0         0        0     yes       lived  \n1                 no     2124         0        0     yes       lived  \n2                yes     2205         0        0     yes        died  \n3                yes     3205         0        0      no       lived  \n4                yes     2207         0        0     yes  euthanized  \n...              ...      ...       ...      ...     ...         ...  \n2054             yes     3205         0        0     yes         NaN  \n2055             yes     2209         0        0      no         NaN  \n2056             yes     2205         0        0      no         NaN  \n2057              no     3111         0        0     yes         NaN  \n2058             yes     2205         0        0     yes         NaN  \n\n[2059 rows x 29 columns]",
      "text/html": "<div>\n<style scoped>\n    .dataframe tbody tr th:only-of-type {\n        vertical-align: middle;\n    }\n\n    .dataframe tbody tr th {\n        vertical-align: top;\n    }\n\n    .dataframe thead th {\n        text-align: right;\n    }\n</style>\n<table border=\"1\" class=\"dataframe\">\n  <thead>\n    <tr style=\"text-align: right;\">\n      <th></th>\n      <th>id</th>\n      <th>surgery</th>\n      <th>age</th>\n      <th>hospital_number</th>\n      <th>rectal_temp</th>\n      <th>pulse</th>\n      <th>respiratory_rate</th>\n      <th>temp_of_extremities</th>\n      <th>peripheral_pulse</th>\n      <th>mucous_membrane</th>\n      <th>...</th>\n      <th>packed_cell_volume</th>\n      <th>total_protein</th>\n      <th>abdomo_appearance</th>\n      <th>abdomo_protein</th>\n      <th>surgical_lesion</th>\n      <th>lesion_1</th>\n      <th>lesion_2</th>\n      <th>lesion_3</th>\n      <th>cp_data</th>\n      <th>outcome</th>\n    </tr>\n  </thead>\n  <tbody>\n    <tr>\n      <th>0</th>\n      <td>1018</td>\n      <td>no</td>\n      <td>adult</td>\n      <td>529424</td>\n      <td>37.8</td>\n      <td>56.0</td>\n      <td>28.0</td>\n      <td>normal</td>\n      <td>normal</td>\n      <td>normal_pink</td>\n      <td>...</td>\n      <td>46.0</td>\n      <td>5.9</td>\n      <td>cloudy</td>\n      <td>7.0</td>\n      <td>no</td>\n      <td>0</td>\n      <td>0</td>\n      <td>0</td>\n      <td>yes</td>\n      <td>lived</td>\n    </tr>\n    <tr>\n      <th>1</th>\n      <td>88</td>\n      <td>no</td>\n      <td>adult</td>\n      <td>5289419</td>\n      <td>38.4</td>\n      <td>52.0</td>\n      <td>20.0</td>\n      <td>cool</td>\n      <td>normal</td>\n      <td>pale_cyanotic</td>\n      <td>...</td>\n      <td>48.0</td>\n      <td>7.7</td>\n      <td>serosanguious</td>\n      <td>4.3</td>\n      <td>no</td>\n      <td>2124</td>\n      <td>0</td>\n      <td>0</td>\n      <td>yes</td>\n      <td>lived</td>\n    </tr>\n    <tr>\n      <th>2</th>\n      <td>892</td>\n      <td>yes</td>\n      <td>young</td>\n      <td>5290409</td>\n      <td>37.2</td>\n      <td>150.0</td>\n      <td>80.0</td>\n      <td>cool</td>\n      <td>reduced</td>\n      <td>dark_cyanotic</td>\n      <td>...</td>\n      <td>66.0</td>\n      <td>7.5</td>\n      <td>serosanguious</td>\n      <td>5.3</td>\n      <td>yes</td>\n      <td>2205</td>\n      <td>0</td>\n      <td>0</td>\n      <td>yes</td>\n      <td>died</td>\n    </tr>\n    <tr>\n      <th>3</th>\n      <td>408</td>\n      <td>yes</td>\n      <td>adult</td>\n      <td>535292</td>\n      <td>37.5</td>\n      <td>120.0</td>\n      <td>36.0</td>\n      <td>cold</td>\n      <td>reduced</td>\n      <td>dark_cyanotic</td>\n      <td>...</td>\n      <td>69.0</td>\n      <td>82.0</td>\n      <td>clear</td>\n      <td>2.0</td>\n      <td>yes</td>\n      <td>3205</td>\n      <td>0</td>\n      <td>0</td>\n      <td>no</td>\n      <td>lived</td>\n    </tr>\n    <tr>\n      <th>4</th>\n      <td>175</td>\n      <td>no</td>\n      <td>adult</td>\n      <td>530242</td>\n      <td>37.2</td>\n      <td>60.0</td>\n      <td>12.0</td>\n      <td>cool</td>\n      <td>absent</td>\n      <td>pale_cyanotic</td>\n      <td>...</td>\n      <td>52.0</td>\n      <td>7.5</td>\n      <td>cloudy</td>\n      <td>4.1</td>\n      <td>yes</td>\n      <td>2207</td>\n      <td>0</td>\n      <td>0</td>\n      <td>yes</td>\n      <td>euthanized</td>\n    </tr>\n    <tr>\n      <th>...</th>\n      <td>...</td>\n      <td>...</td>\n      <td>...</td>\n      <td>...</td>\n      <td>...</td>\n      <td>...</td>\n      <td>...</td>\n      <td>...</td>\n      <td>...</td>\n      <td>...</td>\n      <td>...</td>\n      <td>...</td>\n      <td>...</td>\n      <td>...</td>\n      <td>...</td>\n      <td>...</td>\n      <td>...</td>\n      <td>...</td>\n      <td>...</td>\n      <td>...</td>\n      <td>...</td>\n    </tr>\n    <tr>\n      <th>2054</th>\n      <td>2054</td>\n      <td>no</td>\n      <td>adult</td>\n      <td>529461</td>\n      <td>40.3</td>\n      <td>114.0</td>\n      <td>36.0</td>\n      <td>cool</td>\n      <td>reduced</td>\n      <td>normal_pink</td>\n      <td>...</td>\n      <td>57.0</td>\n      <td>8.1</td>\n      <td>serosanguious</td>\n      <td>4.5</td>\n      <td>yes</td>\n      <td>3205</td>\n      <td>0</td>\n      <td>0</td>\n      <td>yes</td>\n      <td>NaN</td>\n    </tr>\n    <tr>\n      <th>2055</th>\n      <td>2055</td>\n      <td>yes</td>\n      <td>adult</td>\n      <td>535338</td>\n      <td>37.2</td>\n      <td>100.0</td>\n      <td>20.0</td>\n      <td>cool</td>\n      <td>reduced</td>\n      <td>pale_cyanotic</td>\n      <td>...</td>\n      <td>50.0</td>\n      <td>66.0</td>\n      <td>serosanguious</td>\n      <td>2.0</td>\n      <td>yes</td>\n      <td>2209</td>\n      <td>0</td>\n      <td>0</td>\n      <td>no</td>\n      <td>NaN</td>\n    </tr>\n    <tr>\n      <th>2056</th>\n      <td>2056</td>\n      <td>yes</td>\n      <td>adult</td>\n      <td>529640</td>\n      <td>39.2</td>\n      <td>132.0</td>\n      <td>12.0</td>\n      <td>cool</td>\n      <td>reduced</td>\n      <td>dark_cyanotic</td>\n      <td>...</td>\n      <td>53.0</td>\n      <td>7.6</td>\n      <td>serosanguious</td>\n      <td>4.5</td>\n      <td>yes</td>\n      <td>2205</td>\n      <td>0</td>\n      <td>0</td>\n      <td>no</td>\n      <td>NaN</td>\n    </tr>\n    <tr>\n      <th>2057</th>\n      <td>2057</td>\n      <td>no</td>\n      <td>adult</td>\n      <td>5287179</td>\n      <td>38.3</td>\n      <td>54.0</td>\n      <td>66.0</td>\n      <td>normal</td>\n      <td>normal</td>\n      <td>normal_pink</td>\n      <td>...</td>\n      <td>49.0</td>\n      <td>8.6</td>\n      <td>clear</td>\n      <td>5.0</td>\n      <td>no</td>\n      <td>3111</td>\n      <td>0</td>\n      <td>0</td>\n      <td>yes</td>\n      <td>NaN</td>\n    </tr>\n    <tr>\n      <th>2058</th>\n      <td>2058</td>\n      <td>yes</td>\n      <td>adult</td>\n      <td>528461</td>\n      <td>38.1</td>\n      <td>66.0</td>\n      <td>12.0</td>\n      <td>cold</td>\n      <td>normal</td>\n      <td>normal_pink</td>\n      <td>...</td>\n      <td>31.5</td>\n      <td>6.2</td>\n      <td>NaN</td>\n      <td>1.6</td>\n      <td>yes</td>\n      <td>2205</td>\n      <td>0</td>\n      <td>0</td>\n      <td>yes</td>\n      <td>NaN</td>\n    </tr>\n  </tbody>\n</table>\n<p>2059 rows × 29 columns</p>\n</div>"
     },
     "execution_count": 2,
     "metadata": {},
     "output_type": "execute_result"
    }
   ],
   "source": [
    "train = pd.read_csv(\"../resources/train.csv\")\n",
    "train = shuffle(train)\n",
    "test = pd.read_csv(\"../resources/test.csv\")\n",
    "df = pd.concat([train, test], ignore_index=True)\n",
    "df"
   ]
  },
  {
   "cell_type": "code",
   "execution_count": 4,
   "outputs": [
    {
     "name": "stdout",
     "output_type": "stream",
     "text": [
      "<class 'pandas.core.frame.DataFrame'>\n",
      "RangeIndex: 2059 entries, 0 to 2058\n",
      "Data columns (total 29 columns):\n",
      " #   Column                 Non-Null Count  Dtype  \n",
      "---  ------                 --------------  -----  \n",
      " 0   id                     2059 non-null   int64  \n",
      " 1   surgery                2059 non-null   object \n",
      " 2   age                    2059 non-null   object \n",
      " 3   hospital_number        2059 non-null   int64  \n",
      " 4   rectal_temp            2059 non-null   float64\n",
      " 5   pulse                  2059 non-null   float64\n",
      " 6   respiratory_rate       2059 non-null   float64\n",
      " 7   temp_of_extremities    1985 non-null   object \n",
      " 8   peripheral_pulse       1952 non-null   object \n",
      " 9   mucous_membrane        2025 non-null   object \n",
      " 10  capillary_refill_time  2047 non-null   object \n",
      " 11  pain                   1986 non-null   object \n",
      " 12  peristalsis            2020 non-null   object \n",
      " 13  abdominal_distention   2014 non-null   object \n",
      " 14  nasogastric_tube       1915 non-null   object \n",
      " 15  nasogastric_reflux     2024 non-null   object \n",
      " 16  nasogastric_reflux_ph  2059 non-null   float64\n",
      " 17  rectal_exam_feces      1744 non-null   object \n",
      " 18  abdomen                1692 non-null   object \n",
      " 19  packed_cell_volume     2059 non-null   float64\n",
      " 20  total_protein          2059 non-null   float64\n",
      " 21  abdomo_appearance      1980 non-null   object \n",
      " 22  abdomo_protein         2059 non-null   float64\n",
      " 23  surgical_lesion        2059 non-null   object \n",
      " 24  lesion_1               2059 non-null   int64  \n",
      " 25  lesion_2               2059 non-null   int64  \n",
      " 26  lesion_3               2059 non-null   int64  \n",
      " 27  cp_data                2059 non-null   object \n",
      " 28  outcome                1235 non-null   object \n",
      "dtypes: float64(7), int64(5), object(17)\n",
      "memory usage: 466.6+ KB\n"
     ]
    }
   ],
   "source": [
    "df.info()"
   ],
   "metadata": {
    "collapsed": false,
    "ExecuteTime": {
     "end_time": "2023-09-29T21:35:43.499881Z",
     "start_time": "2023-09-29T21:35:43.472801500Z"
    }
   },
   "id": "ae75c57fab015552"
  },
  {
   "cell_type": "code",
   "execution_count": 5,
   "outputs": [
    {
     "data": {
      "text/plain": "                        count unique            top  freq            mean  \\\nid                     2059.0    NaN            NaN   NaN          1029.0   \nsurgery                  2059      2            yes  1476             NaN   \nage                      2059      2          adult  1942             NaN   \nhospital_number        2059.0    NaN            NaN   NaN  1016073.009713   \nrectal_temp            2059.0    NaN            NaN   NaN       38.219136   \npulse                  2059.0    NaN            NaN   NaN       79.836328   \nrespiratory_rate       2059.0    NaN            NaN   NaN       30.320544   \ntemp_of_extremities      1985      4           cool  1172             NaN   \nperipheral_pulse         1952      4        reduced  1202             NaN   \nmucous_membrane          2025      6  pale_cyanotic   462             NaN   \ncapillary_refill_time    2047      3     less_3_sec  1358             NaN   \npain                     1986      7      depressed   739             NaN   \nperistalsis              2020      5     hypomotile  1111             NaN   \nabdominal_distention     2014      4       moderate   872             NaN   \nnasogastric_tube         1915      3         slight  1278             NaN   \nnasogastric_reflux       2024      4   more_1_liter   977             NaN   \nnasogastric_reflux_ph  2059.0    NaN            NaN   NaN        4.432977   \nrectal_exam_feces        1744      5         absent   830             NaN   \nabdomen                  1692      5  distend_small   796             NaN   \npacked_cell_volume     2059.0    NaN            NaN   NaN       49.386693   \ntotal_protein          2059.0    NaN            NaN   NaN        21.15119   \nabdomo_appearance        1980      3  serosanguious   957             NaN   \nabdomo_protein         2059.0    NaN            NaN   NaN        3.309136   \nsurgical_lesion          2059      2            yes  1548             NaN   \nlesion_1               2059.0    NaN            NaN   NaN     3783.395338   \nlesion_2               2059.0    NaN            NaN   NaN       13.723652   \nlesion_3               2059.0    NaN            NaN   NaN        2.145702   \ncp_data                  2059      2            yes  1108             NaN   \noutcome                  1235      3          lived   574             NaN   \n\n                                  std       min       25%       50%       75%  \\\nid                         594.526422       0.0     514.5    1029.0    1543.5   \nsurgery                           NaN       NaN       NaN       NaN       NaN   \nage                               NaN       NaN       NaN       NaN       NaN   \nhospital_number        1441049.027701  521399.0  528800.0  529796.0  534293.0   \nrectal_temp                  0.787378      35.4      37.8      38.2      38.6   \npulse                       29.125777      30.0      54.0      76.0     100.0   \nrespiratory_rate            16.849999       8.0      18.0      28.0      36.0   \ntemp_of_extremities               NaN       NaN       NaN       NaN       NaN   \nperipheral_pulse                  NaN       NaN       NaN       NaN       NaN   \nmucous_membrane                   NaN       NaN       NaN       NaN       NaN   \ncapillary_refill_time             NaN       NaN       NaN       NaN       NaN   \npain                              NaN       NaN       NaN       NaN       NaN   \nperistalsis                       NaN       NaN       NaN       NaN       NaN   \nabdominal_distention              NaN       NaN       NaN       NaN       NaN   \nnasogastric_tube                  NaN       NaN       NaN       NaN       NaN   \nnasogastric_reflux                NaN       NaN       NaN       NaN       NaN   \nnasogastric_reflux_ph        1.916504       1.0       2.0       4.5       6.2   \nrectal_exam_feces                 NaN       NaN       NaN       NaN       NaN   \nabdomen                           NaN       NaN       NaN       NaN       NaN   \npacked_cell_volume          10.502382      23.0      43.0      48.0      56.0   \ntotal_protein                26.56672       3.5       6.6       7.5       9.0   \nabdomo_appearance                 NaN       NaN       NaN       NaN       NaN   \nabdomo_protein               1.569174       0.1       2.0       3.2       4.3   \nsurgical_lesion                   NaN       NaN       NaN       NaN       NaN   \nlesion_1                  5308.601956       0.0    2205.0    2209.0    3205.0   \nlesion_2                    195.01347       0.0       0.0       0.0       0.0   \nlesion_3                    68.829878       0.0       0.0       0.0       0.0   \ncp_data                           NaN       NaN       NaN       NaN       NaN   \noutcome                           NaN       NaN       NaN       NaN       NaN   \n\n                             max  \nid                        2058.0  \nsurgery                      NaN  \nage                          NaN  \nhospital_number        5305129.0  \nrectal_temp                 40.8  \npulse                      184.0  \nrespiratory_rate            96.0  \ntemp_of_extremities          NaN  \nperipheral_pulse             NaN  \nmucous_membrane              NaN  \ncapillary_refill_time        NaN  \npain                         NaN  \nperistalsis                  NaN  \nabdominal_distention         NaN  \nnasogastric_tube             NaN  \nnasogastric_reflux           NaN  \nnasogastric_reflux_ph        7.5  \nrectal_exam_feces            NaN  \nabdomen                      NaN  \npacked_cell_volume          75.0  \ntotal_protein               89.0  \nabdomo_appearance            NaN  \nabdomo_protein              10.1  \nsurgical_lesion              NaN  \nlesion_1                 41110.0  \nlesion_2                  4300.0  \nlesion_3                  2209.0  \ncp_data                      NaN  \noutcome                      NaN  ",
      "text/html": "<div>\n<style scoped>\n    .dataframe tbody tr th:only-of-type {\n        vertical-align: middle;\n    }\n\n    .dataframe tbody tr th {\n        vertical-align: top;\n    }\n\n    .dataframe thead th {\n        text-align: right;\n    }\n</style>\n<table border=\"1\" class=\"dataframe\">\n  <thead>\n    <tr style=\"text-align: right;\">\n      <th></th>\n      <th>count</th>\n      <th>unique</th>\n      <th>top</th>\n      <th>freq</th>\n      <th>mean</th>\n      <th>std</th>\n      <th>min</th>\n      <th>25%</th>\n      <th>50%</th>\n      <th>75%</th>\n      <th>max</th>\n    </tr>\n  </thead>\n  <tbody>\n    <tr>\n      <th>id</th>\n      <td>2059.0</td>\n      <td>NaN</td>\n      <td>NaN</td>\n      <td>NaN</td>\n      <td>1029.0</td>\n      <td>594.526422</td>\n      <td>0.0</td>\n      <td>514.5</td>\n      <td>1029.0</td>\n      <td>1543.5</td>\n      <td>2058.0</td>\n    </tr>\n    <tr>\n      <th>surgery</th>\n      <td>2059</td>\n      <td>2</td>\n      <td>yes</td>\n      <td>1476</td>\n      <td>NaN</td>\n      <td>NaN</td>\n      <td>NaN</td>\n      <td>NaN</td>\n      <td>NaN</td>\n      <td>NaN</td>\n      <td>NaN</td>\n    </tr>\n    <tr>\n      <th>age</th>\n      <td>2059</td>\n      <td>2</td>\n      <td>adult</td>\n      <td>1942</td>\n      <td>NaN</td>\n      <td>NaN</td>\n      <td>NaN</td>\n      <td>NaN</td>\n      <td>NaN</td>\n      <td>NaN</td>\n      <td>NaN</td>\n    </tr>\n    <tr>\n      <th>hospital_number</th>\n      <td>2059.0</td>\n      <td>NaN</td>\n      <td>NaN</td>\n      <td>NaN</td>\n      <td>1016073.009713</td>\n      <td>1441049.027701</td>\n      <td>521399.0</td>\n      <td>528800.0</td>\n      <td>529796.0</td>\n      <td>534293.0</td>\n      <td>5305129.0</td>\n    </tr>\n    <tr>\n      <th>rectal_temp</th>\n      <td>2059.0</td>\n      <td>NaN</td>\n      <td>NaN</td>\n      <td>NaN</td>\n      <td>38.219136</td>\n      <td>0.787378</td>\n      <td>35.4</td>\n      <td>37.8</td>\n      <td>38.2</td>\n      <td>38.6</td>\n      <td>40.8</td>\n    </tr>\n    <tr>\n      <th>pulse</th>\n      <td>2059.0</td>\n      <td>NaN</td>\n      <td>NaN</td>\n      <td>NaN</td>\n      <td>79.836328</td>\n      <td>29.125777</td>\n      <td>30.0</td>\n      <td>54.0</td>\n      <td>76.0</td>\n      <td>100.0</td>\n      <td>184.0</td>\n    </tr>\n    <tr>\n      <th>respiratory_rate</th>\n      <td>2059.0</td>\n      <td>NaN</td>\n      <td>NaN</td>\n      <td>NaN</td>\n      <td>30.320544</td>\n      <td>16.849999</td>\n      <td>8.0</td>\n      <td>18.0</td>\n      <td>28.0</td>\n      <td>36.0</td>\n      <td>96.0</td>\n    </tr>\n    <tr>\n      <th>temp_of_extremities</th>\n      <td>1985</td>\n      <td>4</td>\n      <td>cool</td>\n      <td>1172</td>\n      <td>NaN</td>\n      <td>NaN</td>\n      <td>NaN</td>\n      <td>NaN</td>\n      <td>NaN</td>\n      <td>NaN</td>\n      <td>NaN</td>\n    </tr>\n    <tr>\n      <th>peripheral_pulse</th>\n      <td>1952</td>\n      <td>4</td>\n      <td>reduced</td>\n      <td>1202</td>\n      <td>NaN</td>\n      <td>NaN</td>\n      <td>NaN</td>\n      <td>NaN</td>\n      <td>NaN</td>\n      <td>NaN</td>\n      <td>NaN</td>\n    </tr>\n    <tr>\n      <th>mucous_membrane</th>\n      <td>2025</td>\n      <td>6</td>\n      <td>pale_cyanotic</td>\n      <td>462</td>\n      <td>NaN</td>\n      <td>NaN</td>\n      <td>NaN</td>\n      <td>NaN</td>\n      <td>NaN</td>\n      <td>NaN</td>\n      <td>NaN</td>\n    </tr>\n    <tr>\n      <th>capillary_refill_time</th>\n      <td>2047</td>\n      <td>3</td>\n      <td>less_3_sec</td>\n      <td>1358</td>\n      <td>NaN</td>\n      <td>NaN</td>\n      <td>NaN</td>\n      <td>NaN</td>\n      <td>NaN</td>\n      <td>NaN</td>\n      <td>NaN</td>\n    </tr>\n    <tr>\n      <th>pain</th>\n      <td>1986</td>\n      <td>7</td>\n      <td>depressed</td>\n      <td>739</td>\n      <td>NaN</td>\n      <td>NaN</td>\n      <td>NaN</td>\n      <td>NaN</td>\n      <td>NaN</td>\n      <td>NaN</td>\n      <td>NaN</td>\n    </tr>\n    <tr>\n      <th>peristalsis</th>\n      <td>2020</td>\n      <td>5</td>\n      <td>hypomotile</td>\n      <td>1111</td>\n      <td>NaN</td>\n      <td>NaN</td>\n      <td>NaN</td>\n      <td>NaN</td>\n      <td>NaN</td>\n      <td>NaN</td>\n      <td>NaN</td>\n    </tr>\n    <tr>\n      <th>abdominal_distention</th>\n      <td>2014</td>\n      <td>4</td>\n      <td>moderate</td>\n      <td>872</td>\n      <td>NaN</td>\n      <td>NaN</td>\n      <td>NaN</td>\n      <td>NaN</td>\n      <td>NaN</td>\n      <td>NaN</td>\n      <td>NaN</td>\n    </tr>\n    <tr>\n      <th>nasogastric_tube</th>\n      <td>1915</td>\n      <td>3</td>\n      <td>slight</td>\n      <td>1278</td>\n      <td>NaN</td>\n      <td>NaN</td>\n      <td>NaN</td>\n      <td>NaN</td>\n      <td>NaN</td>\n      <td>NaN</td>\n      <td>NaN</td>\n    </tr>\n    <tr>\n      <th>nasogastric_reflux</th>\n      <td>2024</td>\n      <td>4</td>\n      <td>more_1_liter</td>\n      <td>977</td>\n      <td>NaN</td>\n      <td>NaN</td>\n      <td>NaN</td>\n      <td>NaN</td>\n      <td>NaN</td>\n      <td>NaN</td>\n      <td>NaN</td>\n    </tr>\n    <tr>\n      <th>nasogastric_reflux_ph</th>\n      <td>2059.0</td>\n      <td>NaN</td>\n      <td>NaN</td>\n      <td>NaN</td>\n      <td>4.432977</td>\n      <td>1.916504</td>\n      <td>1.0</td>\n      <td>2.0</td>\n      <td>4.5</td>\n      <td>6.2</td>\n      <td>7.5</td>\n    </tr>\n    <tr>\n      <th>rectal_exam_feces</th>\n      <td>1744</td>\n      <td>5</td>\n      <td>absent</td>\n      <td>830</td>\n      <td>NaN</td>\n      <td>NaN</td>\n      <td>NaN</td>\n      <td>NaN</td>\n      <td>NaN</td>\n      <td>NaN</td>\n      <td>NaN</td>\n    </tr>\n    <tr>\n      <th>abdomen</th>\n      <td>1692</td>\n      <td>5</td>\n      <td>distend_small</td>\n      <td>796</td>\n      <td>NaN</td>\n      <td>NaN</td>\n      <td>NaN</td>\n      <td>NaN</td>\n      <td>NaN</td>\n      <td>NaN</td>\n      <td>NaN</td>\n    </tr>\n    <tr>\n      <th>packed_cell_volume</th>\n      <td>2059.0</td>\n      <td>NaN</td>\n      <td>NaN</td>\n      <td>NaN</td>\n      <td>49.386693</td>\n      <td>10.502382</td>\n      <td>23.0</td>\n      <td>43.0</td>\n      <td>48.0</td>\n      <td>56.0</td>\n      <td>75.0</td>\n    </tr>\n    <tr>\n      <th>total_protein</th>\n      <td>2059.0</td>\n      <td>NaN</td>\n      <td>NaN</td>\n      <td>NaN</td>\n      <td>21.15119</td>\n      <td>26.56672</td>\n      <td>3.5</td>\n      <td>6.6</td>\n      <td>7.5</td>\n      <td>9.0</td>\n      <td>89.0</td>\n    </tr>\n    <tr>\n      <th>abdomo_appearance</th>\n      <td>1980</td>\n      <td>3</td>\n      <td>serosanguious</td>\n      <td>957</td>\n      <td>NaN</td>\n      <td>NaN</td>\n      <td>NaN</td>\n      <td>NaN</td>\n      <td>NaN</td>\n      <td>NaN</td>\n      <td>NaN</td>\n    </tr>\n    <tr>\n      <th>abdomo_protein</th>\n      <td>2059.0</td>\n      <td>NaN</td>\n      <td>NaN</td>\n      <td>NaN</td>\n      <td>3.309136</td>\n      <td>1.569174</td>\n      <td>0.1</td>\n      <td>2.0</td>\n      <td>3.2</td>\n      <td>4.3</td>\n      <td>10.1</td>\n    </tr>\n    <tr>\n      <th>surgical_lesion</th>\n      <td>2059</td>\n      <td>2</td>\n      <td>yes</td>\n      <td>1548</td>\n      <td>NaN</td>\n      <td>NaN</td>\n      <td>NaN</td>\n      <td>NaN</td>\n      <td>NaN</td>\n      <td>NaN</td>\n      <td>NaN</td>\n    </tr>\n    <tr>\n      <th>lesion_1</th>\n      <td>2059.0</td>\n      <td>NaN</td>\n      <td>NaN</td>\n      <td>NaN</td>\n      <td>3783.395338</td>\n      <td>5308.601956</td>\n      <td>0.0</td>\n      <td>2205.0</td>\n      <td>2209.0</td>\n      <td>3205.0</td>\n      <td>41110.0</td>\n    </tr>\n    <tr>\n      <th>lesion_2</th>\n      <td>2059.0</td>\n      <td>NaN</td>\n      <td>NaN</td>\n      <td>NaN</td>\n      <td>13.723652</td>\n      <td>195.01347</td>\n      <td>0.0</td>\n      <td>0.0</td>\n      <td>0.0</td>\n      <td>0.0</td>\n      <td>4300.0</td>\n    </tr>\n    <tr>\n      <th>lesion_3</th>\n      <td>2059.0</td>\n      <td>NaN</td>\n      <td>NaN</td>\n      <td>NaN</td>\n      <td>2.145702</td>\n      <td>68.829878</td>\n      <td>0.0</td>\n      <td>0.0</td>\n      <td>0.0</td>\n      <td>0.0</td>\n      <td>2209.0</td>\n    </tr>\n    <tr>\n      <th>cp_data</th>\n      <td>2059</td>\n      <td>2</td>\n      <td>yes</td>\n      <td>1108</td>\n      <td>NaN</td>\n      <td>NaN</td>\n      <td>NaN</td>\n      <td>NaN</td>\n      <td>NaN</td>\n      <td>NaN</td>\n      <td>NaN</td>\n    </tr>\n    <tr>\n      <th>outcome</th>\n      <td>1235</td>\n      <td>3</td>\n      <td>lived</td>\n      <td>574</td>\n      <td>NaN</td>\n      <td>NaN</td>\n      <td>NaN</td>\n      <td>NaN</td>\n      <td>NaN</td>\n      <td>NaN</td>\n      <td>NaN</td>\n    </tr>\n  </tbody>\n</table>\n</div>"
     },
     "execution_count": 5,
     "metadata": {},
     "output_type": "execute_result"
    }
   ],
   "source": [
    "df.describe(include = \"all\").T"
   ],
   "metadata": {
    "collapsed": false,
    "ExecuteTime": {
     "end_time": "2023-09-29T21:35:43.552744200Z",
     "start_time": "2023-09-29T21:35:43.485838800Z"
    }
   },
   "id": "1b3579f88da3ee2b"
  },
  {
   "cell_type": "code",
   "execution_count": 6,
   "outputs": [
    {
     "data": {
      "text/plain": "(id                         0\n surgery                    0\n age                        0\n hospital_number            0\n rectal_temp                0\n pulse                      0\n respiratory_rate           0\n temp_of_extremities       74\n peripheral_pulse         107\n mucous_membrane           34\n capillary_refill_time     12\n pain                      73\n peristalsis               39\n abdominal_distention      45\n nasogastric_tube         144\n nasogastric_reflux        35\n nasogastric_reflux_ph      0\n rectal_exam_feces        315\n abdomen                  367\n packed_cell_volume         0\n total_protein              0\n abdomo_appearance         79\n abdomo_protein             0\n surgical_lesion            0\n lesion_1                   0\n lesion_2                   0\n lesion_3                   0\n cp_data                    0\n outcome                  824\n dtype: int64,\n 2148)"
     },
     "execution_count": 6,
     "metadata": {},
     "output_type": "execute_result"
    }
   ],
   "source": [
    "aux = df.isnull().sum()\n",
    "aux, aux.sum()"
   ],
   "metadata": {
    "collapsed": false,
    "ExecuteTime": {
     "end_time": "2023-09-29T21:35:43.589342500Z",
     "start_time": "2023-09-29T21:35:43.526394800Z"
    }
   },
   "id": "34537e8cae0d957d"
  },
  {
   "cell_type": "code",
   "execution_count": 7,
   "outputs": [],
   "source": [
    "def plot_two_vars(df: pd.DataFrame, main_col: str, cols):\n",
    "    ratio = 3\n",
    "    n = len(cols)\n",
    "    fig, axes = plt.subplots(math.ceil(n/ratio), min(ratio, n), figsize=(7*min(ratio, n), 5*(math.ceil(n/ratio))))\n",
    "    \n",
    "    for idx, col in enumerate(cols):\n",
    "        if n==1:\n",
    "            ax = axes\n",
    "        elif n <= ratio:\n",
    "            ax=axes[idx%ratio]\n",
    "        else:\n",
    "            ax=axes[int(idx/ratio), idx%ratio]\n",
    "\n",
    "        type = df[col].dtype\n",
    "        if pd.api.types.is_numeric_dtype(type):\n",
    "            sns.barplot(ax=ax, x = main_col, y = col, data = df);\n",
    "        else:\n",
    "            aux = df.groupby(main_col)[col].value_counts(normalize=True, dropna=False).reset_index(name='NormalizedCounts')\n",
    "    \n",
    "            sns.barplot(ax=ax, data=aux, x=main_col, y='NormalizedCounts', hue=col)\n",
    "            #sns.histplot(ax=ax, x = main_col, hue = col, data = df, stat=\"count\", multiple=\"stack\")"
   ],
   "metadata": {
    "collapsed": false,
    "ExecuteTime": {
     "end_time": "2023-09-29T21:35:43.590341700Z",
     "start_time": "2023-09-29T21:35:43.539005600Z"
    }
   },
   "id": "8f49cf56816ff6fd"
  },
  {
   "cell_type": "code",
   "execution_count": 8,
   "outputs": [],
   "source": [
    "col = 'surgical_lesion'\n",
    "#plot_two_vars(df, col, df.columns.drop(col))"
   ],
   "metadata": {
    "collapsed": false,
    "ExecuteTime": {
     "end_time": "2023-09-29T21:35:43.590341700Z",
     "start_time": "2023-09-29T21:35:43.542017Z"
    }
   },
   "id": "b4a10b8aeace5bba"
  },
  {
   "cell_type": "code",
   "execution_count": 9,
   "outputs": [],
   "source": [
    "from sklearn.preprocessing import OrdinalEncoder, LabelEncoder, OneHotEncoder, StandardScaler\n",
    "from sklearn.preprocessing import MinMaxScaler\n",
    "\n",
    "def pre_process_data(df :pd.DataFrame):\n",
    "    df['hospital_dig'] = df.hospital_number.astype(str).map(lambda x: len(x))\n",
    "    df = df.drop(columns=['id','hospital_number','lesion_2','lesion_3'])\n",
    "    \n",
    "    df.surgery = df.surgery.map({'yes':1.0,'no':0.0})\n",
    "    df.age = df.age.map({'adult':1.0,'young':0.0})\n",
    "    df.temp_of_extremities = df.temp_of_extremities.map({'cold':0.0,'cool':1.0,'normal':2.0,'warm':3.0})\n",
    "    df.peripheral_pulse = df.peripheral_pulse.map({'absent':0.0,'reduced':1.0,'normal':2.0,'increased':3.0})\n",
    "    df.mucous_membrane = df.mucous_membrane.map({'normal_pink':0.0,'bright_pink':1.0,'pale_pink':2.0,'pale_cyanotic':3.0,'bright_red':4.0,'dark_cyanotic':5.0})\n",
    "    df.capillary_refill_time = df.capillary_refill_time.map({'less_3_sec':0.0,'3':1.0,'more_3_sec':2.0})\n",
    "    df.peristalsis = df.peristalsis.map({'absent':0.0,'hypomotile':1.0,'normal':2.0,'hypermotile':3.0})\n",
    "    df.abdominal_distention = df.abdominal_distention.map({'none':0.0,'slight':1.0,'moderate':2.0,'severe':3.0})\n",
    "    df.nasogastric_tube = df.nasogastric_tube.map({'none':0.0,'slight':1.0,'significant':2.0})\n",
    "    df.nasogastric_reflux = df.nasogastric_reflux.map({'none':0.0,'slight':1.0,'less_1_liter':2.0,'more_1_liter':3.0})\n",
    "    df.rectal_exam_feces = df.rectal_exam_feces.map({'absent':0.0,'decreased':1.0,'normal':2.0,'increased':3.0})\n",
    "    df.abdomo_appearance = df.abdomo_appearance.map({'clear':0.0,'cloudy':1.0,'serosanguious':2.0})\n",
    "    df.surgical_lesion = df.surgical_lesion.map({'yes':1.0,'no':0.0})\n",
    "    df.cp_data = df.cp_data.map({'yes':1.0,'no':0.0})\n",
    "    df.lesion_1 = df.lesion_1.apply(lambda x:int(str(x)[0]))\n",
    "    df.lesion_1 = df.lesion_1.map({0:'none',1:'gastric',2:'smintestine',3:'lgcolon',4:'lgcoloncecum',5:'cecum',6:'transversecolon',7:'retumdesccolon',8:'uterus',9:'bladder'})\n",
    "    \n",
    "    target = df.outcome\n",
    "    df = df.drop(columns='outcome')\n",
    "    \n",
    "    encFeatures = df.select_dtypes([\"object\"]).columns\n",
    "    enc = OneHotEncoder()\n",
    "    \n",
    "    enc_data = pd.DataFrame(enc.fit_transform(df[encFeatures]).toarray(), columns = enc.get_feature_names_out(encFeatures))\n",
    "    \n",
    "    \n",
    "    df = pd.concat([df, enc_data], axis=1)\n",
    "    df = df.drop(columns=encFeatures)\n",
    "    \n",
    "    df = df.drop(columns=[col for col in df if '_nan' in col])\n",
    "    \n",
    "    imputer = KNNImputer(n_neighbors=4)\n",
    "    df = pd.DataFrame(imputer.fit_transform(df),columns=df.columns)\n",
    "    \n",
    "    scaler = MinMaxScaler((-1,1))\n",
    "    #scaler = StandardScaler()\n",
    "    df = pd.DataFrame(scaler.fit_transform(df),columns=df.columns)\n",
    "    \n",
    "    df['outcome']=target.to_numpy()\n",
    "    return df"
   ],
   "metadata": {
    "collapsed": false,
    "ExecuteTime": {
     "end_time": "2023-09-29T21:35:43.635415600Z",
     "start_time": "2023-09-29T21:35:43.555855700Z"
    }
   },
   "id": "c5680d0822dfe907"
  },
  {
   "cell_type": "code",
   "execution_count": 10,
   "outputs": [
    {
     "data": {
      "text/plain": "      surgery  age  rectal_temp     pulse  respiratory_rate  \\\n0         1.0  1.0     0.000000  0.324675         -0.636364   \n1         1.0  1.0    -0.222222 -0.246753         -0.909091   \n2         1.0  1.0     0.074074  0.168831         -0.545455   \n3         1.0  1.0    -0.370370 -0.454545         -0.500000   \n4        -1.0  1.0    -0.037037 -0.714286         -0.090909   \n...       ...  ...          ...       ...               ...   \n2054     -1.0  1.0     0.814815  0.090909         -0.363636   \n2055      1.0  1.0    -0.333333 -0.090909         -0.727273   \n2056      1.0  1.0     0.407407  0.324675         -0.909091   \n2057     -1.0  1.0     0.074074 -0.688312          0.318182   \n2058      1.0  1.0     0.000000 -0.532468         -0.909091   \n\n      temp_of_extremities  peripheral_pulse  mucous_membrane  \\\n0               -0.333333         -0.333333              1.0   \n1               -0.333333          0.333333              0.2   \n2               -0.333333         -0.333333             -0.2   \n3               -1.000000         -0.333333             -0.2   \n4                0.333333          0.333333             -1.0   \n...                   ...               ...              ...   \n2054            -0.333333         -0.333333             -1.0   \n2055            -0.333333         -0.333333              0.2   \n2056            -0.333333         -0.333333              1.0   \n2057             0.333333          0.333333             -1.0   \n2058            -1.000000          0.333333             -1.0   \n\n      capillary_refill_time  peristalsis  ...  lesion_1_cecum  \\\n0                       1.0    -1.000000  ...            -1.0   \n1                       1.0    -1.000000  ...            -1.0   \n2                      -1.0    -0.333333  ...             1.0   \n3                       1.0    -0.333333  ...            -1.0   \n4                      -1.0    -0.333333  ...            -1.0   \n...                     ...          ...  ...             ...   \n2054                    1.0    -0.333333  ...            -1.0   \n2055                    1.0    -1.000000  ...            -1.0   \n2056                    1.0    -0.333333  ...            -1.0   \n2057                   -1.0    -0.333333  ...            -1.0   \n2058                   -1.0    -0.333333  ...            -1.0   \n\n      lesion_1_gastric  lesion_1_lgcolon  lesion_1_lgcoloncecum  \\\n0                 -1.0              -1.0                   -1.0   \n1                 -1.0              -1.0                   -1.0   \n2                 -1.0              -1.0                   -1.0   \n3                 -1.0              -1.0                   -1.0   \n4                 -1.0              -1.0                   -1.0   \n...                ...               ...                    ...   \n2054              -1.0               1.0                   -1.0   \n2055              -1.0              -1.0                   -1.0   \n2056              -1.0              -1.0                   -1.0   \n2057              -1.0               1.0                   -1.0   \n2058              -1.0              -1.0                   -1.0   \n\n      lesion_1_none  lesion_1_retumdesccolon  lesion_1_smintestine  \\\n0              -1.0                     -1.0                   1.0   \n1              -1.0                     -1.0                   1.0   \n2              -1.0                     -1.0                  -1.0   \n3              -1.0                     -1.0                   1.0   \n4               1.0                     -1.0                  -1.0   \n...             ...                      ...                   ...   \n2054           -1.0                     -1.0                  -1.0   \n2055           -1.0                     -1.0                   1.0   \n2056           -1.0                     -1.0                   1.0   \n2057           -1.0                     -1.0                  -1.0   \n2058           -1.0                     -1.0                   1.0   \n\n      lesion_1_transversecolon  lesion_1_uterus     outcome  \n0                         -1.0             -1.0        died  \n1                         -1.0             -1.0  euthanized  \n2                         -1.0             -1.0       lived  \n3                         -1.0             -1.0       lived  \n4                         -1.0             -1.0       lived  \n...                        ...              ...         ...  \n2054                      -1.0             -1.0         NaN  \n2055                      -1.0             -1.0         NaN  \n2056                      -1.0             -1.0         NaN  \n2057                      -1.0             -1.0         NaN  \n2058                      -1.0             -1.0         NaN  \n\n[2059 rows x 45 columns]",
      "text/html": "<div>\n<style scoped>\n    .dataframe tbody tr th:only-of-type {\n        vertical-align: middle;\n    }\n\n    .dataframe tbody tr th {\n        vertical-align: top;\n    }\n\n    .dataframe thead th {\n        text-align: right;\n    }\n</style>\n<table border=\"1\" class=\"dataframe\">\n  <thead>\n    <tr style=\"text-align: right;\">\n      <th></th>\n      <th>surgery</th>\n      <th>age</th>\n      <th>rectal_temp</th>\n      <th>pulse</th>\n      <th>respiratory_rate</th>\n      <th>temp_of_extremities</th>\n      <th>peripheral_pulse</th>\n      <th>mucous_membrane</th>\n      <th>capillary_refill_time</th>\n      <th>peristalsis</th>\n      <th>...</th>\n      <th>lesion_1_cecum</th>\n      <th>lesion_1_gastric</th>\n      <th>lesion_1_lgcolon</th>\n      <th>lesion_1_lgcoloncecum</th>\n      <th>lesion_1_none</th>\n      <th>lesion_1_retumdesccolon</th>\n      <th>lesion_1_smintestine</th>\n      <th>lesion_1_transversecolon</th>\n      <th>lesion_1_uterus</th>\n      <th>outcome</th>\n    </tr>\n  </thead>\n  <tbody>\n    <tr>\n      <th>0</th>\n      <td>1.0</td>\n      <td>1.0</td>\n      <td>0.000000</td>\n      <td>0.324675</td>\n      <td>-0.636364</td>\n      <td>-0.333333</td>\n      <td>-0.333333</td>\n      <td>1.0</td>\n      <td>1.0</td>\n      <td>-1.000000</td>\n      <td>...</td>\n      <td>-1.0</td>\n      <td>-1.0</td>\n      <td>-1.0</td>\n      <td>-1.0</td>\n      <td>-1.0</td>\n      <td>-1.0</td>\n      <td>1.0</td>\n      <td>-1.0</td>\n      <td>-1.0</td>\n      <td>died</td>\n    </tr>\n    <tr>\n      <th>1</th>\n      <td>1.0</td>\n      <td>1.0</td>\n      <td>-0.222222</td>\n      <td>-0.246753</td>\n      <td>-0.909091</td>\n      <td>-0.333333</td>\n      <td>0.333333</td>\n      <td>0.2</td>\n      <td>1.0</td>\n      <td>-1.000000</td>\n      <td>...</td>\n      <td>-1.0</td>\n      <td>-1.0</td>\n      <td>-1.0</td>\n      <td>-1.0</td>\n      <td>-1.0</td>\n      <td>-1.0</td>\n      <td>1.0</td>\n      <td>-1.0</td>\n      <td>-1.0</td>\n      <td>euthanized</td>\n    </tr>\n    <tr>\n      <th>2</th>\n      <td>1.0</td>\n      <td>1.0</td>\n      <td>0.074074</td>\n      <td>0.168831</td>\n      <td>-0.545455</td>\n      <td>-0.333333</td>\n      <td>-0.333333</td>\n      <td>-0.2</td>\n      <td>-1.0</td>\n      <td>-0.333333</td>\n      <td>...</td>\n      <td>1.0</td>\n      <td>-1.0</td>\n      <td>-1.0</td>\n      <td>-1.0</td>\n      <td>-1.0</td>\n      <td>-1.0</td>\n      <td>-1.0</td>\n      <td>-1.0</td>\n      <td>-1.0</td>\n      <td>lived</td>\n    </tr>\n    <tr>\n      <th>3</th>\n      <td>1.0</td>\n      <td>1.0</td>\n      <td>-0.370370</td>\n      <td>-0.454545</td>\n      <td>-0.500000</td>\n      <td>-1.000000</td>\n      <td>-0.333333</td>\n      <td>-0.2</td>\n      <td>1.0</td>\n      <td>-0.333333</td>\n      <td>...</td>\n      <td>-1.0</td>\n      <td>-1.0</td>\n      <td>-1.0</td>\n      <td>-1.0</td>\n      <td>-1.0</td>\n      <td>-1.0</td>\n      <td>1.0</td>\n      <td>-1.0</td>\n      <td>-1.0</td>\n      <td>lived</td>\n    </tr>\n    <tr>\n      <th>4</th>\n      <td>-1.0</td>\n      <td>1.0</td>\n      <td>-0.037037</td>\n      <td>-0.714286</td>\n      <td>-0.090909</td>\n      <td>0.333333</td>\n      <td>0.333333</td>\n      <td>-1.0</td>\n      <td>-1.0</td>\n      <td>-0.333333</td>\n      <td>...</td>\n      <td>-1.0</td>\n      <td>-1.0</td>\n      <td>-1.0</td>\n      <td>-1.0</td>\n      <td>1.0</td>\n      <td>-1.0</td>\n      <td>-1.0</td>\n      <td>-1.0</td>\n      <td>-1.0</td>\n      <td>lived</td>\n    </tr>\n    <tr>\n      <th>...</th>\n      <td>...</td>\n      <td>...</td>\n      <td>...</td>\n      <td>...</td>\n      <td>...</td>\n      <td>...</td>\n      <td>...</td>\n      <td>...</td>\n      <td>...</td>\n      <td>...</td>\n      <td>...</td>\n      <td>...</td>\n      <td>...</td>\n      <td>...</td>\n      <td>...</td>\n      <td>...</td>\n      <td>...</td>\n      <td>...</td>\n      <td>...</td>\n      <td>...</td>\n      <td>...</td>\n    </tr>\n    <tr>\n      <th>2054</th>\n      <td>-1.0</td>\n      <td>1.0</td>\n      <td>0.814815</td>\n      <td>0.090909</td>\n      <td>-0.363636</td>\n      <td>-0.333333</td>\n      <td>-0.333333</td>\n      <td>-1.0</td>\n      <td>1.0</td>\n      <td>-0.333333</td>\n      <td>...</td>\n      <td>-1.0</td>\n      <td>-1.0</td>\n      <td>1.0</td>\n      <td>-1.0</td>\n      <td>-1.0</td>\n      <td>-1.0</td>\n      <td>-1.0</td>\n      <td>-1.0</td>\n      <td>-1.0</td>\n      <td>NaN</td>\n    </tr>\n    <tr>\n      <th>2055</th>\n      <td>1.0</td>\n      <td>1.0</td>\n      <td>-0.333333</td>\n      <td>-0.090909</td>\n      <td>-0.727273</td>\n      <td>-0.333333</td>\n      <td>-0.333333</td>\n      <td>0.2</td>\n      <td>1.0</td>\n      <td>-1.000000</td>\n      <td>...</td>\n      <td>-1.0</td>\n      <td>-1.0</td>\n      <td>-1.0</td>\n      <td>-1.0</td>\n      <td>-1.0</td>\n      <td>-1.0</td>\n      <td>1.0</td>\n      <td>-1.0</td>\n      <td>-1.0</td>\n      <td>NaN</td>\n    </tr>\n    <tr>\n      <th>2056</th>\n      <td>1.0</td>\n      <td>1.0</td>\n      <td>0.407407</td>\n      <td>0.324675</td>\n      <td>-0.909091</td>\n      <td>-0.333333</td>\n      <td>-0.333333</td>\n      <td>1.0</td>\n      <td>1.0</td>\n      <td>-0.333333</td>\n      <td>...</td>\n      <td>-1.0</td>\n      <td>-1.0</td>\n      <td>-1.0</td>\n      <td>-1.0</td>\n      <td>-1.0</td>\n      <td>-1.0</td>\n      <td>1.0</td>\n      <td>-1.0</td>\n      <td>-1.0</td>\n      <td>NaN</td>\n    </tr>\n    <tr>\n      <th>2057</th>\n      <td>-1.0</td>\n      <td>1.0</td>\n      <td>0.074074</td>\n      <td>-0.688312</td>\n      <td>0.318182</td>\n      <td>0.333333</td>\n      <td>0.333333</td>\n      <td>-1.0</td>\n      <td>-1.0</td>\n      <td>-0.333333</td>\n      <td>...</td>\n      <td>-1.0</td>\n      <td>-1.0</td>\n      <td>1.0</td>\n      <td>-1.0</td>\n      <td>-1.0</td>\n      <td>-1.0</td>\n      <td>-1.0</td>\n      <td>-1.0</td>\n      <td>-1.0</td>\n      <td>NaN</td>\n    </tr>\n    <tr>\n      <th>2058</th>\n      <td>1.0</td>\n      <td>1.0</td>\n      <td>0.000000</td>\n      <td>-0.532468</td>\n      <td>-0.909091</td>\n      <td>-1.000000</td>\n      <td>0.333333</td>\n      <td>-1.0</td>\n      <td>-1.0</td>\n      <td>-0.333333</td>\n      <td>...</td>\n      <td>-1.0</td>\n      <td>-1.0</td>\n      <td>-1.0</td>\n      <td>-1.0</td>\n      <td>-1.0</td>\n      <td>-1.0</td>\n      <td>1.0</td>\n      <td>-1.0</td>\n      <td>-1.0</td>\n      <td>NaN</td>\n    </tr>\n  </tbody>\n</table>\n<p>2059 rows × 45 columns</p>\n</div>"
     },
     "execution_count": 10,
     "metadata": {},
     "output_type": "execute_result"
    }
   ],
   "source": [
    "pre_df = pre_process_data(df)\n",
    "pre_df"
   ],
   "metadata": {
    "collapsed": false,
    "ExecuteTime": {
     "end_time": "2023-09-29T21:35:43.768606900Z",
     "start_time": "2023-09-29T21:35:43.561378800Z"
    }
   },
   "id": "cd4386965138778b"
  },
  {
   "cell_type": "code",
   "execution_count": 10,
   "outputs": [],
   "source": [],
   "metadata": {
    "collapsed": false,
    "ExecuteTime": {
     "end_time": "2023-09-29T21:35:43.793145700Z",
     "start_time": "2023-09-29T21:35:43.694480300Z"
    }
   },
   "id": "ded36c21f40aceba"
  }
 ],
 "metadata": {
  "kernelspec": {
   "display_name": "Python 3",
   "language": "python",
   "name": "python3"
  },
  "language_info": {
   "codemirror_mode": {
    "name": "ipython",
    "version": 2
   },
   "file_extension": ".py",
   "mimetype": "text/x-python",
   "name": "python",
   "nbconvert_exporter": "python",
   "pygments_lexer": "ipython2",
   "version": "2.7.6"
  }
 },
 "nbformat": 4,
 "nbformat_minor": 5
}
